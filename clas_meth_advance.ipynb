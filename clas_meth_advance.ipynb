{
  "nbformat": 4,
  "nbformat_minor": 0,
  "metadata": {
    "orig_nbformat": 4,
    "language_info": {
      "name": "python",
      "version": "3.6.3",
      "mimetype": "text/x-python",
      "codemirror_mode": {
        "name": "ipython",
        "version": 3
      },
      "pygments_lexer": "ipython3",
      "nbconvert_exporter": "python",
      "file_extension": ".py"
    },
    "kernelspec": {
      "name": "python3",
      "display_name": "Python 3.6.3 64-bit ('base': conda)"
    },
    "interpreter": {
      "hash": "9ae343dddec10aefd08a2750816ac8aba9822b9f7d9bb3e7559e2f5e4d741eea"
    },
    "colab": {
      "name": "clas_meth_advance.ipynb",
      "provenance": [],
      "collapsed_sections": [],
      "toc_visible": true,
      "include_colab_link": true
    }
  },
  "cells": [
    {
      "cell_type": "markdown",
      "metadata": {
        "id": "view-in-github",
        "colab_type": "text"
      },
      "source": [
        "<a href=\"https://colab.research.google.com/github/lanpokn/anomaly-detection/blob/master/clas_meth_advance.ipynb\" target=\"_parent\"><img src=\"https://colab.research.google.com/assets/colab-badge.svg\" alt=\"Open In Colab\"/></a>"
      ]
    },
    {
      "cell_type": "code",
      "metadata": {
        "colab": {
          "base_uri": "https://localhost:8080/"
        },
        "id": "f2TwD1Qb5rvE",
        "outputId": "1c6b3a58-3535-4ead-854c-7b26687b6609"
      },
      "source": [
        "#data load\n",
        "from scipy.io import loadmat\n",
        "import matplotlib.pyplot as plt\n",
        "import pandas as pd\n",
        "import numpy as np\n",
        "from sklearn import preprocessing\n",
        "from sklearn.model_selection import train_test_split\n",
        "from sklearn.datasets import load_iris\n",
        "from sklearn.preprocessing import minmax_scale,StandardScaler\n",
        "\n",
        "#1D target tensor expected, multi-target not supported,pytorch再这一点上与sklearn很不一样，建议中期报告说这个事情\n",
        "def creat_dataset(test_index = [0, 1, 2]):\n",
        "    # path = './TE_mat_data/'\n",
        "    path = ''\n",
        "    print(\"loading data...\")\n",
        "\n",
        "    fault1 = loadmat(path + 'd01.mat')['data']\n",
        "    fault2 = loadmat(path + 'd02.mat')['data']\n",
        "    fault3 = loadmat(path + 'd03.mat')['data']\n",
        "    fault4 = loadmat(path + 'd04.mat')['data']\n",
        "    fault5 = loadmat(path + 'd05.mat')['data']\n",
        "    fault6 = loadmat(path + 'd06.mat')['data']\n",
        "    fault7 = loadmat(path + 'd07.mat')['data']\n",
        "    fault8 = loadmat(path + 'd08.mat')['data']\n",
        "    fault9 = loadmat(path + 'd09.mat')['data']\n",
        "    fault10 = loadmat(path + 'd10.mat')['data']\n",
        "    fault11 = loadmat(path + 'd11.mat')['data']\n",
        "    fault12 = loadmat(path + 'd12.mat')['data']\n",
        "    fault13 = loadmat(path + 'd13.mat')['data']\n",
        "    fault14 = loadmat(path + 'd14.mat')['data']\n",
        "    fault15 = loadmat(path + 'd15.mat')['data']\n",
        "\n",
        "    attribute_matrix_ = pd.read_excel('./attribute_matrix.xlsx', index_col='no')\n",
        "    attribute_matrix = attribute_matrix_.values\n",
        "\n",
        "    #这一步要自己手调\n",
        "    # train_index = list(set(np.arange(15)) - set(test_index))\n",
        "    train_index = test_index[:][:]\n",
        "\n",
        "    test_index.sort()\n",
        "    train_index.sort()\n",
        "\n",
        "    print(\"test classes: {}\".format(test_index))\n",
        "    print(\"train classes: {}\".format(train_index))\n",
        "\n",
        "    data_list = [fault1, fault2, fault3, fault4, fault5,\n",
        "                 fault6, fault7, fault8, fault9, fault10,\n",
        "                 fault11, fault12, fault13, fault14, fault15]\n",
        "\n",
        "    trainlabel = []\n",
        "    train_attributelabel = []\n",
        "    traindata = []\n",
        "    for item in train_index:\n",
        "        trainlabel += [item] * 480\n",
        "        train_attributelabel += [attribute_matrix[item, :]] * 480\n",
        "        traindata.append(data_list[item])\n",
        "    trainlabel = np.row_stack(trainlabel)\n",
        "    train_attributelabel = np.row_stack(train_attributelabel)\n",
        "    traindata = np.column_stack(traindata).T\n",
        "\n",
        "    testlabel = []\n",
        "    test_attributelabel = []\n",
        "    testdata = []\n",
        "    for item in test_index:\n",
        "        testlabel += [item] * 480\n",
        "        test_attributelabel += [attribute_matrix[item, :]] * 480\n",
        "        testdata.append(data_list[item])\n",
        "    testlabel = np.row_stack(testlabel)\n",
        "    test_attributelabel = np.row_stack(test_attributelabel)\n",
        "    testdata = np.column_stack(testdata).T\n",
        "\n",
        "    return traindata, trainlabel, train_attributelabel, \\\n",
        "           testdata, testlabel, test_attributelabel, \\\n",
        "           attribute_matrix_.iloc[test_index,:], attribute_matrix_.iloc[train_index, :]\n",
        "\n",
        "print(\"==========================[train classes][0 ,1, 2]===================================\")\n",
        "print(\"beginning...with feature extraction\")\n",
        "traindata, trainlabel, train_attributelabel, testdata, testlabel, \\\n",
        "test_attributelabel, attribute_matrix, train_attribute_matrix = creat_dataset([0, 1, 2])\n",
        "#USE D21 AS UNKONOWN\n",
        "#PREprocess,先minmax再standardscaler\n",
        "#1D target tensor expected, multi-target not supported,pytorch再这一点上与sklearn很不一样，建议中期报告说这个事情\n",
        "traindata = minmax_scale(traindata)\n",
        "testdata = minmax_scale(testdata)\n",
        "percent = 0.8\n",
        "partition = int(traindata.shape[0]*percent)\n",
        "train_x, train_y0, val_x, val_y0 = traindata[:partition], trainlabel[:partition], traindata[partition:], trainlabel[partition:]\n",
        "train_y=train_y0.flatten()\n",
        "val_y = val_y0.flatten()\n",
        "train_y"
      ],
      "execution_count": 11,
      "outputs": [
        {
          "output_type": "stream",
          "name": "stdout",
          "text": [
            "==========================[train classes][0 ,1, 2]===================================\n",
            "beginning...with feature extraction\n",
            "loading data...\n",
            "test classes: [0, 1, 2]\n",
            "train classes: [0, 1, 2]\n"
          ]
        },
        {
          "output_type": "execute_result",
          "data": {
            "text/plain": [
              "array([0, 0, 0, ..., 2, 2, 2])"
            ]
          },
          "metadata": {},
          "execution_count": 11
        }
      ]
    },
    {
      "cell_type": "code",
      "metadata": {
        "id": "711I78Sd5rvL"
      },
      "source": [
        "#creat dataset\n",
        "import torch \n",
        "from torch.utils.data import Dataset\n",
        "\n",
        "class TEDataset(Dataset):\n",
        "    #有可能一次处理一个trains[i]\n",
        "    def __init__(self, X, y=None):\n",
        "        self.data = torch.tensor(X)\n",
        "        \n",
        "        if y is not None:\n",
        "            self.label=torch.tensor(y)\n",
        "        else:\n",
        "            self.label = None\n",
        "\n",
        "    def __getitem__(self, idx):\n",
        "        if self.label is not None:\n",
        "            return self.data[idx], self.label[idx]\n",
        "        else:\n",
        "            return self.data[idx]\n",
        "\n",
        "    def __len__(self):\n",
        "        return len(self.data)"
      ],
      "execution_count": 12,
      "outputs": []
    },
    {
      "cell_type": "code",
      "metadata": {
        "id": "LnVzAG315rvM"
      },
      "source": [
        "#dataset and dataloader\n",
        "\n",
        "BATCH_SIZE = 64\n",
        "\n",
        "from torch.utils.data import DataLoader\n",
        "\n",
        "train_set = TEDataset(train_x, train_y)\n",
        "val_set = TEDataset(val_x, val_y)\n",
        "train_loader = DataLoader(train_set, batch_size=BATCH_SIZE, shuffle=True) #only shuffle the training data\n",
        "val_loader = DataLoader(val_set, batch_size=BATCH_SIZE, shuffle=False)"
      ],
      "execution_count": 13,
      "outputs": []
    },
    {
      "cell_type": "code",
      "metadata": {
        "id": "DiSQpdBu5rvN"
      },
      "source": [
        "#create nerual network\n",
        "\n",
        "import torch\n",
        "import torch.nn as nn\n",
        "#输入有52个向量，输出目前有四个，信息分数可以根据四个输出进行判断\n",
        "class Classifier(nn.Module):\n",
        "    def __init__(self):\n",
        "        super(Classifier, self).__init__()\n",
        "        # self.layer1 = nn.Linear(429, 1024)\n",
        "        # self.layer2 = nn.Linear(1024, 512)\n",
        "        # self.layer3 = nn.Linear(512, 128)\n",
        "        # self.out = nn.Linear(128, 39) \n",
        "\n",
        "        # self.act_fn = nn.Sigmoid()\n",
        "        # define neural network layers\n",
        "        self.model = nn.Sequential(\n",
        "            nn.Linear(52, 105),#2*输入加1\n",
        "            #nn.Sigmoid(),\n",
        "            nn.LeakyReLU(0.02),\n",
        "\n",
        "            # nn.LayerNorm(200),\n",
        "            \n",
        "            nn.Linear(105, 3),\n",
        "            nn.Sigmoid(),\n",
        "            # nn.Softmax()\n",
        "            #nn.LeakyReLU(0.02)\n",
        "        )\n",
        "\n",
        "    def forward(self, x):\n",
        "        return self.model(x)\n",
        "\n",
        "#check device\n",
        "def get_device():\n",
        "  return 'cuda' if torch.cuda.is_available() else 'cpu'\n",
        "\n",
        "# fix random seed\n",
        "def same_seeds(seed):\n",
        "    torch.manual_seed(seed)\n",
        "    if torch.cuda.is_available():\n",
        "        torch.cuda.manual_seed(seed)\n",
        "        torch.cuda.manual_seed_all(seed)  \n",
        "    np.random.seed(seed)  \n",
        "    torch.backends.cudnn.benchmark = False\n",
        "    torch.backends.cudnn.deterministic = True"
      ],
      "execution_count": 14,
      "outputs": []
    },
    {
      "cell_type": "code",
      "metadata": {
        "id": "FKsTeiom5rvN",
        "colab": {
          "base_uri": "https://localhost:8080/"
        },
        "outputId": "1aa32e73-1013-4d41-f38a-60bec82ac33e"
      },
      "source": [
        "# Feel free to change the training parameters here.\n",
        "# fix random seed for reproducibility\n",
        "same_seeds(0)\n",
        "\n",
        "# get device \n",
        "device = get_device()\n",
        "print(f'DEVICE: {device}')\n",
        "\n",
        "# training parameters\n",
        "num_epoch = 40              # number of training epoch\n",
        "learning_rate = 0.005       # learning rate\n",
        "\n",
        "# the path where checkpoint saved\n",
        "model_path = './model.ckpt'\n",
        "\n",
        "# create model, define a loss function, and optimizer\n",
        "model = Classifier().to(device)\n",
        "criterion = nn.CrossEntropyLoss() \n",
        "optimizer = torch.optim.Adam(model.parameters(), lr=learning_rate)"
      ],
      "execution_count": 42,
      "outputs": [
        {
          "output_type": "stream",
          "name": "stdout",
          "text": [
            "DEVICE: cpu\n"
          ]
        }
      ]
    },
    {
      "cell_type": "code",
      "metadata": {
        "id": "qpR8s2kj5rvO",
        "colab": {
          "base_uri": "https://localhost:8080/"
        },
        "outputId": "0bc94e40-7376-4480-aaa0-fb7660319d23"
      },
      "source": [
        "# start training\n",
        "#问题：交叉熵不要自己独热化，给0到n-1作为标签即可\n",
        "# 为了解决：expected scalar type Float but found Double\n",
        "model = model.double()\n",
        "#可能是因为没有初始化？\n",
        "def init_weights(m):\n",
        "    if type(m) == nn.Linear:\n",
        "        nn.init.normal_(m.weight,std=0.01)\n",
        "model.apply(init_weights)\n",
        "\n",
        "best_acc = 0.0\n",
        "for epoch in range(num_epoch):\n",
        "    train_acc = 0.0\n",
        "    train_loss = 0.0\n",
        "    val_acc = 0.0\n",
        "    val_loss = 0.0\n",
        "\n",
        "    # training\n",
        "    model.train() # set the model to training mode\n",
        "    for i, data in enumerate(train_loader):\n",
        "        inputs, labels = data\n",
        "        inputs, labels = inputs.to(device), labels.to(device)\n",
        "        # print(inputs),print(labels)\n",
        "        optimizer.zero_grad() \n",
        "        outputs = model(inputs) \n",
        "        # print(f'Train:{outputs}')\n",
        "        batch_loss = criterion(outputs, labels)\n",
        "        _, train_pred = torch.max(outputs, 1) # get the index of the class with the highest probability\n",
        "        # print(f'train:{train_pred}')\n",
        "        batch_loss.backward() \n",
        "        optimizer.step() \n",
        "        \n",
        "        # print(train_pred.cpu())\n",
        "        train_acc += (train_pred.cpu() == labels.cpu()).sum().item()\n",
        "        train_loss += batch_loss.item()\n",
        "\n",
        "    # validation\n",
        "    if len(val_set) > 0:\n",
        "        model.eval() # set the model to evaluation mode\n",
        "        with torch.no_grad():\n",
        "            for i, data in enumerate(val_loader):\n",
        "                inputs, labels = data\n",
        "                inputs, labels = inputs.to(device), labels.to(device)\n",
        "                outputs = model(inputs)\n",
        "                batch_loss = criterion(outputs, labels) \n",
        "                _, val_pred = torch.max(outputs, 1) \n",
        "            \n",
        "                val_acc += (val_pred.cpu() == labels.cpu()).sum().item() # get the index of the class with the highest probability\n",
        "                val_loss += batch_loss.item()\n",
        "\n",
        "            print('[{:03d}/{:03d}] Train Acc: {:3.6f} Loss: {:3.6f} | Val Acc: {:3.6f} loss: {:3.6f}'.format(\n",
        "                epoch + 1, num_epoch, train_acc/len(train_set), train_loss/len(train_loader), val_acc/len(val_set), val_loss/len(val_loader)\n",
        "            ))\n",
        "\n",
        "            # if the model improves, save a checkpoint at this epoch\n",
        "            if val_acc > best_acc:\n",
        "                best_acc = val_acc\n",
        "                torch.save(model.state_dict(), model_path)\n",
        "                print('saving model with acc {:.3f}'.format(best_acc/len(val_set)))\n",
        "    else:\n",
        "        print('[{:03d}/{:03d}] Train Acc: {:3.6f} Loss: {:3.6f}'.format(\n",
        "            epoch + 1, num_epoch, train_acc/len(train_set), train_loss/len(train_loader)\n",
        "        ))\n",
        "\n",
        "# if not validating, save the last epoch\n",
        "if len(val_set) == 0:\n",
        "    torch.save(model.state_dict(), model_path)\n",
        "    print('saving model at last epoch')"
      ],
      "execution_count": 44,
      "outputs": [
        {
          "output_type": "stream",
          "name": "stdout",
          "text": [
            "[001/040] Train Acc: 0.686632 Loss: 0.939839 | Val Acc: 0.000000 loss: 1.247672\n",
            "[002/040] Train Acc: 0.824653 Loss: 0.681378 | Val Acc: 0.000000 loss: 1.117435\n",
            "[003/040] Train Acc: 0.827257 Loss: 0.662202 | Val Acc: 0.000000 loss: 1.109651\n",
            "[004/040] Train Acc: 0.826389 Loss: 0.657837 | Val Acc: 0.000000 loss: 1.108260\n",
            "[005/040] Train Acc: 0.827257 Loss: 0.656611 | Val Acc: 0.000000 loss: 1.110174\n",
            "[006/040] Train Acc: 0.826389 Loss: 0.655535 | Val Acc: 0.000000 loss: 1.113893\n",
            "[007/040] Train Acc: 0.828125 Loss: 0.655005 | Val Acc: 0.000000 loss: 1.109286\n",
            "[008/040] Train Acc: 0.828993 Loss: 0.654278 | Val Acc: 0.000000 loss: 1.104617\n",
            "[009/040] Train Acc: 0.828125 Loss: 0.654017 | Val Acc: 0.000000 loss: 1.105152\n",
            "[010/040] Train Acc: 0.826389 Loss: 0.653650 | Val Acc: 0.000000 loss: 1.103863\n",
            "[011/040] Train Acc: 0.828125 Loss: 0.653350 | Val Acc: 0.000000 loss: 1.109379\n",
            "[012/040] Train Acc: 0.829861 Loss: 0.653121 | Val Acc: 0.000000 loss: 1.109206\n",
            "[013/040] Train Acc: 0.828125 Loss: 0.652846 | Val Acc: 0.000000 loss: 1.103617\n",
            "[014/040] Train Acc: 0.828125 Loss: 0.652810 | Val Acc: 0.000000 loss: 1.103934\n",
            "[015/040] Train Acc: 0.828993 Loss: 0.652743 | Val Acc: 0.000000 loss: 1.104073\n",
            "[016/040] Train Acc: 0.828993 Loss: 0.652562 | Val Acc: 0.000000 loss: 1.103710\n",
            "[017/040] Train Acc: 0.828993 Loss: 0.652575 | Val Acc: 0.000000 loss: 1.106104\n",
            "[018/040] Train Acc: 0.827257 Loss: 0.653060 | Val Acc: 0.000000 loss: 1.100637\n",
            "[019/040] Train Acc: 0.827257 Loss: 0.652402 | Val Acc: 0.000000 loss: 1.101710\n",
            "[020/040] Train Acc: 0.828125 Loss: 0.652013 | Val Acc: 0.000000 loss: 1.107470\n",
            "[021/040] Train Acc: 0.830729 Loss: 0.651865 | Val Acc: 0.000000 loss: 1.116647\n",
            "[022/040] Train Acc: 0.828125 Loss: 0.651881 | Val Acc: 0.000000 loss: 1.102222\n",
            "[023/040] Train Acc: 0.828125 Loss: 0.651549 | Val Acc: 0.000000 loss: 1.105654\n",
            "[024/040] Train Acc: 0.828125 Loss: 0.651586 | Val Acc: 0.000000 loss: 1.108735\n",
            "[025/040] Train Acc: 0.829861 Loss: 0.651920 | Val Acc: 0.000000 loss: 1.116841\n",
            "[026/040] Train Acc: 0.827257 Loss: 0.651523 | Val Acc: 0.000000 loss: 1.102485\n",
            "[027/040] Train Acc: 0.828125 Loss: 0.651299 | Val Acc: 0.000000 loss: 1.102314\n",
            "[028/040] Train Acc: 0.828993 Loss: 0.651018 | Val Acc: 0.000000 loss: 1.112587\n",
            "[029/040] Train Acc: 0.828993 Loss: 0.651319 | Val Acc: 0.000000 loss: 1.104480\n",
            "[030/040] Train Acc: 0.828993 Loss: 0.650936 | Val Acc: 0.000000 loss: 1.118197\n",
            "[031/040] Train Acc: 0.828993 Loss: 0.650989 | Val Acc: 0.000000 loss: 1.110071\n",
            "[032/040] Train Acc: 0.829861 Loss: 0.650667 | Val Acc: 0.000000 loss: 1.103118\n",
            "[033/040] Train Acc: 0.828125 Loss: 0.650891 | Val Acc: 0.000000 loss: 1.103750\n",
            "[034/040] Train Acc: 0.829861 Loss: 0.650413 | Val Acc: 0.000000 loss: 1.107993\n",
            "[035/040] Train Acc: 0.828125 Loss: 0.649950 | Val Acc: 0.000000 loss: 1.124957\n",
            "[036/040] Train Acc: 0.829861 Loss: 0.650049 | Val Acc: 0.000000 loss: 1.108268\n",
            "[037/040] Train Acc: 0.829861 Loss: 0.650027 | Val Acc: 0.000000 loss: 1.104250\n",
            "[038/040] Train Acc: 0.828993 Loss: 0.650808 | Val Acc: 0.000000 loss: 1.101575\n",
            "[039/040] Train Acc: 0.829861 Loss: 0.649614 | Val Acc: 0.000000 loss: 1.137497\n",
            "[040/040] Train Acc: 0.829861 Loss: 0.649669 | Val Acc: 0.000000 loss: 1.125218\n"
          ]
        }
      ]
    }
  ]
}
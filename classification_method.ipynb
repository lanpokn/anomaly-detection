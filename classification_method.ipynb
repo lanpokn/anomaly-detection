{
 "cells": [
  {
   "cell_type": "markdown",
   "source": [
    "Preparing data"
   ],
   "metadata": {}
  },
  {
   "cell_type": "code",
   "execution_count": 6,
   "source": [
    "import pandas as pd\n",
    "\n",
    "f=open(r'/home/lanpokn/Documents/vscode/python project/srtp/anomaly detect/TE REAL/d00.dat',encoding='utf-8')\n",
    "\n",
    "sentimentlists = []\n",
    "for line in f:\n",
    "    s = line.strip().split('\\t')\n",
    "    sentimentlists.append(s)\n",
    "f.close()\n",
    "\n",
    "trains = []\n",
    "for i in range(len(sentimentlists)):\n",
    "    train0 = sentimentlists[i][0].split()\n",
    "    trains0.append(train)\n",
    "\n",
    "# df_train=pd.DataFrame(sentimentlists)\n",
    "print(len(trains0))\n",
    "print(len(trains0[0]))\n"
   ],
   "outputs": [
    {
     "output_type": "stream",
     "name": "stdout",
     "text": [
      "52\n",
      "500\n"
     ]
    }
   ],
   "metadata": {}
  },
  {
   "cell_type": "markdown",
   "source": [
    "Create Dataset"
   ],
   "metadata": {}
  },
  {
   "cell_type": "code",
   "execution_count": null,
   "source": [
    "import torch \n",
    "from torch.utils.data import Dataset\n"
   ],
   "outputs": [],
   "metadata": {}
  }
 ],
 "metadata": {
  "orig_nbformat": 4,
  "language_info": {
   "name": "python",
   "version": "3.6.3",
   "mimetype": "text/x-python",
   "codemirror_mode": {
    "name": "ipython",
    "version": 3
   },
   "pygments_lexer": "ipython3",
   "nbconvert_exporter": "python",
   "file_extension": ".py"
  },
  "kernelspec": {
   "name": "python3",
   "display_name": "Python 3.6.3 64-bit ('base': conda)"
  },
  "interpreter": {
   "hash": "9ae343dddec10aefd08a2750816ac8aba9822b9f7d9bb3e7559e2f5e4d741eea"
  }
 },
 "nbformat": 4,
 "nbformat_minor": 2
}
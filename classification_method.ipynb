{
 "cells": [
  {
   "cell_type": "markdown",
   "source": [
    "Preparing data"
   ],
   "metadata": {}
  },
  {
   "cell_type": "code",
   "execution_count": 53,
   "source": [
    "import pandas as pd\n",
    "#有么有改进方法？\n",
    "#初步定为：4个train(0-3)，后三个不在train中出现，为异常检测部分\n",
    "#从哪里学习数据处理的操作？\n",
    "f0=open(r'/home/lanpokn/Documents/vscode/python project/srtp/anomaly detect/TE REAL/d00.dat',encoding='utf-8')\n",
    "f1=open(r'/home/lanpokn/Documents/vscode/python project/srtp/anomaly detect/TE REAL/d01.dat',encoding='utf-8')\n",
    "f2=open(r'/home/lanpokn/Documents/vscode/python project/srtp/anomaly detect/TE REAL/d02.dat',encoding='utf-8')\n",
    "f3=open(r'/home/lanpokn/Documents/vscode/python project/srtp/anomaly detect/TE REAL/d03.dat',encoding='utf-8')\n",
    "f4=open(r'/home/lanpokn/Documents/vscode/python project/srtp/anomaly detect/TE REAL/d04.dat',encoding='utf-8')\n",
    "f5=open(r'/home/lanpokn/Documents/vscode/python project/srtp/anomaly detect/TE REAL/d05.dat',encoding='utf-8')\n",
    "f6=open(r'/home/lanpokn/Documents/vscode/python project/srtp/anomaly detect/TE REAL/d06.dat',encoding='utf-8')\n",
    "f7=open(r'/home/lanpokn/Documents/vscode/python project/srtp/anomaly detect/TE REAL/d07.dat',encoding='utf-8')\n",
    "f8=open(r'/home/lanpokn/Documents/vscode/python project/srtp/anomaly detect/TE REAL/d08.dat',encoding='utf-8')\n",
    "f9=open(r'/home/lanpokn/Documents/vscode/python project/srtp/anomaly detect/TE REAL/d09.dat',encoding='utf-8')\n",
    "f10=open(r'/home/lanpokn/Documents/vscode/python project/srtp/anomaly detect/TE REAL/d10.dat',encoding='utf-8')\n",
    "f11=open(r'/home/lanpokn/Documents/vscode/python project/srtp/anomaly detect/TE REAL/d11.dat',encoding='utf-8')\n",
    "f12=open(r'/home/lanpokn/Documents/vscode/python project/srtp/anomaly detect/TE REAL/d12.dat',encoding='utf-8')\n",
    "f13=open(r'/home/lanpokn/Documents/vscode/python project/srtp/anomaly detect/TE REAL/d13.dat',encoding='utf-8')\n",
    "f14=open(r'/home/lanpokn/Documents/vscode/python project/srtp/anomaly detect/TE REAL/d14.dat',encoding='utf-8')\n",
    "f15=open(r'/home/lanpokn/Documents/vscode/python project/srtp/anomaly detect/TE REAL/d15.dat',encoding='utf-8')\n",
    "f16=open(r'/home/lanpokn/Documents/vscode/python project/srtp/anomaly detect/TE REAL/d16.dat',encoding='utf-8')\n",
    "f17=open(r'/home/lanpokn/Documents/vscode/python project/srtp/anomaly detect/TE REAL/d17.dat',encoding='utf-8')\n",
    "f18=open(r'/home/lanpokn/Documents/vscode/python project/srtp/anomaly detect/TE REAL/d18.dat',encoding='utf-8')\n",
    "f19=open(r'/home/lanpokn/Documents/vscode/python project/srtp/anomaly detect/TE REAL/d19.dat',encoding='utf-8')\n",
    "f20=open(r'/home/lanpokn/Documents/vscode/python project/srtp/anomaly detect/TE REAL/d20.dat',encoding='utf-8')\n",
    "f21=open(r'/home/lanpokn/Documents/vscode/python project/srtp/anomaly detect/TE REAL/d21.dat',encoding='utf-8')\n",
    "trains = []\n",
    "trains_label = []\n",
    "#0\n",
    "sentimentlists = []\n",
    "for line in f0:\n",
    "    s = line.strip().split('\\t')\n",
    "    sentimentlists.append(s)\n",
    "f0.close()\n",
    "\n",
    "trains0 = []\n",
    "trains0_label =[]\n",
    "for i in range(len(sentimentlists)):\n",
    "    train0 = sentimentlists[i][0].split()#sentimentlist 是一个2维列表，第二维只有一个元素，故要加上0\n",
    "    for j in range(len(train0)):\n",
    "        train0[j] = float(train0[j])\n",
    "    trains0.append(train0)\n",
    "    trains0_label.append([1,0,0,0])\n",
    "trains.append(trains0)\n",
    "trains_label.append(trains0_label)\n",
    "\n",
    "#1\n",
    "sentimentlists = []\n",
    "for line in f1:\n",
    "    s = line.strip().split('\\t')\n",
    "    sentimentlists.append(s)\n",
    "f1.close()\n",
    "\n",
    "trains1 = []\n",
    "trains1_label =[]\n",
    "for i in range(len(sentimentlists)):\n",
    "    train1 = sentimentlists[i][0].split()#sentimentlist 是一个2维列表，第二维只有一个元素，故要加上0\n",
    "    for j in range(len(train1)):\n",
    "        train1[j] = float(train1[j])\n",
    "    trains1.append(train1)\n",
    "    trains1_label.append([0,1,0,0])\n",
    "trains.append(trains1)\n",
    "trains_label.append(trains1_label)\n",
    "\n",
    "#2\n",
    "sentimentlists = []\n",
    "for line in f2:\n",
    "    s = line.strip().split('\\t')\n",
    "    sentimentlists.append(s)\n",
    "f2.close()\n",
    "\n",
    "trains2 = []\n",
    "trains2_label =[]\n",
    "for i in range(len(sentimentlists)):\n",
    "    train2 = sentimentlists[i][0].split()#sentimentlist 是一个2维列表，第二维只有一个元素，故要加上0\n",
    "    for j in range(len(train2)):\n",
    "        train2[j] = float(train2[j])\n",
    "    trains2.append(train1)\n",
    "    trains2_label.append([0,0,1,0])\n",
    "trains.append(trains2)\n",
    "trains_label.append(trains2_label)\n",
    "\n",
    "#3\n",
    "sentimentlists = []\n",
    "for line in f3:\n",
    "    s = line.strip().split('\\t')\n",
    "    sentimentlists.append(s)\n",
    "f3.close()\n",
    "\n",
    "trains3 = []\n",
    "trains3_label =[]\n",
    "for i in range(len(sentimentlists)):\n",
    "    train3 = sentimentlists[i][0].split()#sentimentlist 是一个2维列表，第二维只有一个元素，故要加上0\n",
    "    for j in range(len(train3)):\n",
    "        train3[j] = float(train3[j])\n",
    "    trains3.append(train1)\n",
    "    trains3_label.append([0,0,0,1])\n",
    "trains.append(trains3)\n",
    "trains_label.append(trains3_label)\n",
    "\n",
    "\n",
    "# df_train=pd.DataFrame(sentimentlists)\n",
    "#.00和后面的列数居然对不上？\n",
    "print(len(trains))\n",
    "print(len(trains[0]))\n",
    "print(len(trains[0][2]))\n",
    "print(len(trains_label))\n",
    "print(len(trains_label[0]))\n",
    "print(len(trains_label[0][0]))"
   ],
   "outputs": [
    {
     "output_type": "stream",
     "name": "stdout",
     "text": [
      "4\n",
      "52\n",
      "500\n",
      "4\n",
      "52\n",
      "4\n"
     ]
    }
   ],
   "metadata": {}
  },
  {
   "cell_type": "markdown",
   "source": [
    "Create Dataset"
   ],
   "metadata": {}
  },
  {
   "cell_type": "code",
   "execution_count": 40,
   "source": [
    "import torch \n",
    "from torch.utils.data import Dataset\n",
    "\n",
    "class TEDataset(Dataset):\n",
    "    #有可能一次处理一个trains[i]\n",
    "    def __init__(self, X, y=None):\n",
    "        self.data = []\n",
    "        for i in range(len(X)):\n",
    "            for j in range(len(X[i])):\n",
    "                self.data.append(X[i][j])\n",
    "            pass\n",
    "        pass\n",
    "        \n",
    "        print(len(self.data))\n",
    "        self.data = torch.tensor(self.data)\n",
    "        if y is not None:\n",
    "            self.label = []\n",
    "            for i in range(len(y)):\n",
    "                for j in range(len(y[i])):\n",
    "                    self.label.append(y[i][j])\n",
    "                pass\n",
    "            pass\n",
    "        else:\n",
    "            self.label = None\n",
    "\n",
    "    def __getitem__(self, idx):\n",
    "        if self.label is not None:\n",
    "            return self.data[idx], self.label[idx]\n",
    "        else:\n",
    "            return self.data[idx]\n",
    "\n",
    "    def __len__(self):\n",
    "        return len(self.data)\n"
   ],
   "outputs": [],
   "metadata": {}
  },
  {
   "cell_type": "markdown",
   "source": [
    "Split the labeled data into a training set and a validation set, you can modify the variable VAL_RATIO to change the ratio of validation data."
   ],
   "metadata": {}
  },
  {
   "cell_type": "code",
   "execution_count": 37,
   "source": [
    "import numpy as np\n",
    "\n",
    "\n",
    "VAL_RATIO = 0.25\n",
    "\n",
    "trains_np = np.array(trains)\n",
    "trains_np_label = np.array(trains_label)\n",
    "\n",
    "percent = int(len(trains) * (1 - VAL_RATIO))\n",
    "train_x, train_y, val_x, val_y = trains[:percent], trains_label[:percent], trains[percent:], trains_label[percent:]\n",
    "print(len(train_x))\n",
    "print(len(train_x[0]))\n",
    "print(len(train_x[0][0]))\n",
    "print(len(train_y))\n",
    "print(len(train_y[0]))\n",
    "print(len(train_y[0][0]))"
   ],
   "outputs": [
    {
     "output_type": "stream",
     "name": "stdout",
     "text": [
      "3\n",
      "52\n",
      "500\n",
      "3\n",
      "52\n",
      "4\n"
     ]
    },
    {
     "output_type": "stream",
     "name": "stderr",
     "text": [
      "/home/lanpokn/anaconda3/lib/python3.6/site-packages/ipykernel_launcher.py:6: VisibleDeprecationWarning: Creating an ndarray from ragged nested sequences (which is a list-or-tuple of lists-or-tuples-or ndarrays with different lengths or shapes) is deprecated. If you meant to do this, you must specify 'dtype=object' when creating the ndarray\n",
      "  \n",
      "/home/lanpokn/anaconda3/lib/python3.6/site-packages/ipykernel_launcher.py:7: VisibleDeprecationWarning: Creating an ndarray from ragged nested sequences (which is a list-or-tuple of lists-or-tuples-or ndarrays with different lengths or shapes) is deprecated. If you meant to do this, you must specify 'dtype=object' when creating the ndarray\n",
      "  import sys\n"
     ]
    }
   ],
   "metadata": {}
  },
  {
   "cell_type": "markdown",
   "source": [
    "Create a data loader from the dataset, feel free to tweak the variable BATCH_SIZE here."
   ],
   "metadata": {}
  },
  {
   "cell_type": "code",
   "execution_count": 41,
   "source": [
    "BATCH_SIZE = 64\n",
    "\n",
    "from torch.utils.data import DataLoader\n",
    "\n",
    "train_set = TEDataset(train_x, train_y)\n",
    "val_set = TEDataset(val_x, val_y)\n",
    "train_loader = DataLoader(train_set, batch_size=BATCH_SIZE, shuffle=True) #only shuffle the training data\n",
    "val_loader = DataLoader(val_set, batch_size=BATCH_SIZE, shuffle=False)"
   ],
   "outputs": [
    {
     "output_type": "stream",
     "name": "stdout",
     "text": [
      "1012\n"
     ]
    },
    {
     "output_type": "error",
     "ename": "ValueError",
     "evalue": "expected sequence of length 500 at dim 1 (got 52)",
     "traceback": [
      "\u001b[0;31m---------------------------------------------------------------------------\u001b[0m",
      "\u001b[0;31mValueError\u001b[0m                                Traceback (most recent call last)",
      "\u001b[0;32m<ipython-input-41-e4fe27345c2b>\u001b[0m in \u001b[0;36m<module>\u001b[0;34m()\u001b[0m\n\u001b[1;32m      3\u001b[0m \u001b[0;32mfrom\u001b[0m \u001b[0mtorch\u001b[0m\u001b[0;34m.\u001b[0m\u001b[0mutils\u001b[0m\u001b[0;34m.\u001b[0m\u001b[0mdata\u001b[0m \u001b[0;32mimport\u001b[0m \u001b[0mDataLoader\u001b[0m\u001b[0;34m\u001b[0m\u001b[0m\n\u001b[1;32m      4\u001b[0m \u001b[0;34m\u001b[0m\u001b[0m\n\u001b[0;32m----> 5\u001b[0;31m \u001b[0mtrain_set\u001b[0m \u001b[0;34m=\u001b[0m \u001b[0mTEDataset\u001b[0m\u001b[0;34m(\u001b[0m\u001b[0mtrain_x\u001b[0m\u001b[0;34m,\u001b[0m \u001b[0mtrain_y\u001b[0m\u001b[0;34m)\u001b[0m\u001b[0;34m\u001b[0m\u001b[0m\n\u001b[0m\u001b[1;32m      6\u001b[0m \u001b[0mval_set\u001b[0m \u001b[0;34m=\u001b[0m \u001b[0mTEDataset\u001b[0m\u001b[0;34m(\u001b[0m\u001b[0mval_x\u001b[0m\u001b[0;34m,\u001b[0m \u001b[0mval_y\u001b[0m\u001b[0;34m)\u001b[0m\u001b[0;34m\u001b[0m\u001b[0m\n\u001b[1;32m      7\u001b[0m \u001b[0mtrain_loader\u001b[0m \u001b[0;34m=\u001b[0m \u001b[0mDataLoader\u001b[0m\u001b[0;34m(\u001b[0m\u001b[0mtrain_set\u001b[0m\u001b[0;34m,\u001b[0m \u001b[0mbatch_size\u001b[0m\u001b[0;34m=\u001b[0m\u001b[0mBATCH_SIZE\u001b[0m\u001b[0;34m,\u001b[0m \u001b[0mshuffle\u001b[0m\u001b[0;34m=\u001b[0m\u001b[0;32mTrue\u001b[0m\u001b[0;34m)\u001b[0m \u001b[0;31m#only shuffle the training data\u001b[0m\u001b[0;34m\u001b[0m\u001b[0m\n",
      "\u001b[0;32m<ipython-input-40-b1d2471e2073>\u001b[0m in \u001b[0;36m__init__\u001b[0;34m(self, X, y)\u001b[0m\n\u001b[1;32m     13\u001b[0m \u001b[0;34m\u001b[0m\u001b[0m\n\u001b[1;32m     14\u001b[0m         \u001b[0mprint\u001b[0m\u001b[0;34m(\u001b[0m\u001b[0mlen\u001b[0m\u001b[0;34m(\u001b[0m\u001b[0mself\u001b[0m\u001b[0;34m.\u001b[0m\u001b[0mdata\u001b[0m\u001b[0;34m)\u001b[0m\u001b[0;34m)\u001b[0m\u001b[0;34m\u001b[0m\u001b[0m\n\u001b[0;32m---> 15\u001b[0;31m         \u001b[0mself\u001b[0m\u001b[0;34m.\u001b[0m\u001b[0mdata\u001b[0m \u001b[0;34m=\u001b[0m \u001b[0mtorch\u001b[0m\u001b[0;34m.\u001b[0m\u001b[0mtensor\u001b[0m\u001b[0;34m(\u001b[0m\u001b[0mself\u001b[0m\u001b[0;34m.\u001b[0m\u001b[0mdata\u001b[0m\u001b[0;34m)\u001b[0m\u001b[0;34m\u001b[0m\u001b[0m\n\u001b[0m\u001b[1;32m     16\u001b[0m         \u001b[0;32mif\u001b[0m \u001b[0my\u001b[0m \u001b[0;32mis\u001b[0m \u001b[0;32mnot\u001b[0m \u001b[0;32mNone\u001b[0m\u001b[0;34m:\u001b[0m\u001b[0;34m\u001b[0m\u001b[0m\n\u001b[1;32m     17\u001b[0m             \u001b[0mself\u001b[0m\u001b[0;34m.\u001b[0m\u001b[0mlabel\u001b[0m \u001b[0;34m=\u001b[0m \u001b[0;34m[\u001b[0m\u001b[0;34m]\u001b[0m\u001b[0;34m\u001b[0m\u001b[0m\n",
      "\u001b[0;31mValueError\u001b[0m: expected sequence of length 500 at dim 1 (got 52)"
     ]
    }
   ],
   "metadata": {}
  }
 ],
 "metadata": {
  "orig_nbformat": 4,
  "language_info": {
   "name": "python",
   "version": "3.6.3",
   "mimetype": "text/x-python",
   "codemirror_mode": {
    "name": "ipython",
    "version": 3
   },
   "pygments_lexer": "ipython3",
   "nbconvert_exporter": "python",
   "file_extension": ".py"
  },
  "kernelspec": {
   "name": "python3",
   "display_name": "Python 3.6.3 64-bit ('base': conda)"
  },
  "interpreter": {
   "hash": "9ae343dddec10aefd08a2750816ac8aba9822b9f7d9bb3e7559e2f5e4d741eea"
  }
 },
 "nbformat": 4,
 "nbformat_minor": 2
}
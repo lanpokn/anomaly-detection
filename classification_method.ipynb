{
 "cells": [
  {
   "cell_type": "code",
   "execution_count": 110,
   "source": [
    "#d00居然是反的？？？\n",
    "\n",
    "import pandas as pd\n",
    "#有么有改进方法？\n",
    "#初步定为：4个train(0-3)，后三个不在train中出现，为异常检测部分\n",
    "#从哪里学习数据处理的操作？\n",
    "f0=open(r'/home/lanpokn/Documents/vscode/python project/srtp/anomaly detect/TE REAL/d00.dat',encoding='utf-8')\n",
    "f1=open(r'/home/lanpokn/Documents/vscode/python project/srtp/anomaly detect/TE REAL/d01.dat',encoding='utf-8')\n",
    "f2=open(r'/home/lanpokn/Documents/vscode/python project/srtp/anomaly detect/TE REAL/d02.dat',encoding='utf-8')\n",
    "f3=open(r'/home/lanpokn/Documents/vscode/python project/srtp/anomaly detect/TE REAL/d03.dat',encoding='utf-8')\n",
    "f4=open(r'/home/lanpokn/Documents/vscode/python project/srtp/anomaly detect/TE REAL/d04.dat',encoding='utf-8')\n",
    "f5=open(r'/home/lanpokn/Documents/vscode/python project/srtp/anomaly detect/TE REAL/d05.dat',encoding='utf-8')\n",
    "f6=open(r'/home/lanpokn/Documents/vscode/python project/srtp/anomaly detect/TE REAL/d06.dat',encoding='utf-8')\n",
    "f7=open(r'/home/lanpokn/Documents/vscode/python project/srtp/anomaly detect/TE REAL/d07.dat',encoding='utf-8')\n",
    "f8=open(r'/home/lanpokn/Documents/vscode/python project/srtp/anomaly detect/TE REAL/d08.dat',encoding='utf-8')\n",
    "f9=open(r'/home/lanpokn/Documents/vscode/python project/srtp/anomaly detect/TE REAL/d09.dat',encoding='utf-8')\n",
    "f10=open(r'/home/lanpokn/Documents/vscode/python project/srtp/anomaly detect/TE REAL/d10.dat',encoding='utf-8')\n",
    "f11=open(r'/home/lanpokn/Documents/vscode/python project/srtp/anomaly detect/TE REAL/d11.dat',encoding='utf-8')\n",
    "f12=open(r'/home/lanpokn/Documents/vscode/python project/srtp/anomaly detect/TE REAL/d12.dat',encoding='utf-8')\n",
    "f13=open(r'/home/lanpokn/Documents/vscode/python project/srtp/anomaly detect/TE REAL/d13.dat',encoding='utf-8')\n",
    "f14=open(r'/home/lanpokn/Documents/vscode/python project/srtp/anomaly detect/TE REAL/d14.dat',encoding='utf-8')\n",
    "f15=open(r'/home/lanpokn/Documents/vscode/python project/srtp/anomaly detect/TE REAL/d15.dat',encoding='utf-8')\n",
    "f16=open(r'/home/lanpokn/Documents/vscode/python project/srtp/anomaly detect/TE REAL/d16.dat',encoding='utf-8')\n",
    "f17=open(r'/home/lanpokn/Documents/vscode/python project/srtp/anomaly detect/TE REAL/d17.dat',encoding='utf-8')\n",
    "f18=open(r'/home/lanpokn/Documents/vscode/python project/srtp/anomaly detect/TE REAL/d18.dat',encoding='utf-8')\n",
    "f19=open(r'/home/lanpokn/Documents/vscode/python project/srtp/anomaly detect/TE REAL/d19.dat',encoding='utf-8')\n",
    "f20=open(r'/home/lanpokn/Documents/vscode/python project/srtp/anomaly detect/TE REAL/d20.dat',encoding='utf-8')\n",
    "f21=open(r'/home/lanpokn/Documents/vscode/python project/srtp/anomaly detect/TE REAL/d21.dat',encoding='utf-8')\n",
    "trains = []\n",
    "trains_label = []\n",
    "#0\n",
    "sentimentlists = []\n",
    "for line in f0:\n",
    "    s = line.strip().split('\\t')\n",
    "    sentimentlists.append(s)\n",
    "f0.close()\n",
    "\n",
    "trains0 = []\n",
    "trains0_label =[]\n",
    "for i in range(len(sentimentlists)):\n",
    "    train0 = sentimentlists[i][0].split()#sentimentlist 是一个2维列表，第二维只有一个元素，故要加上0\n",
    "    for j in range(len(train0)):\n",
    "        train0[j] = float(train0[j])\n",
    "    trains0.append(train0)\n",
    "    trains0_label.append(0)\n",
    "#由于d00.dat出现了问题，在此手动对其转置\n",
    "trains0_t = []\n",
    "for i in range(len(trains0[0])):\n",
    "    trains0_t1 = []\n",
    "    for j in range(len(trains0)):\n",
    "        trains0_t1.append(trains0[j][i])\n",
    "    trains0_t.append(trains0_t1)\n",
    "    pass\n",
    "for i in range(len(trains0_label),len(trains0_t)):\n",
    "    trains0_label.append(0)\n",
    "    pass\n",
    "\n",
    "trains.append(trains0_t)\n",
    "trains_label.append(trains0_label)\n",
    "\n",
    "\n",
    "#1\n",
    "sentimentlists = []\n",
    "for line in f1:\n",
    "    s = line.strip().split('\\t')\n",
    "    sentimentlists.append(s)\n",
    "f1.close()\n",
    "\n",
    "trains1 = []\n",
    "trains1_label =[]\n",
    "for i in range(len(sentimentlists)):\n",
    "    train1 = sentimentlists[i][0].split()#sentimentlist 是一个2维列表，第二维只有一个元素，故要加上0\n",
    "    for j in range(len(train1)):\n",
    "        train1[j] = float(train1[j])\n",
    "    trains1.append(train1)\n",
    "    trains1_label.append(1)\n",
    "trains.append(trains1)\n",
    "trains_label.append(trains1_label)\n",
    "\n",
    "#2\n",
    "sentimentlists = []\n",
    "for line in f2:\n",
    "    s = line.strip().split('\\t')\n",
    "    sentimentlists.append(s)\n",
    "f2.close()\n",
    "\n",
    "trains2 = []\n",
    "trains2_label =[]\n",
    "for i in range(len(sentimentlists)):\n",
    "    train2 = sentimentlists[i][0].split()#sentimentlist 是一个2维列表，第二维只有一个元素，故要加上0\n",
    "    for j in range(len(train2)):\n",
    "        train2[j] = float(train2[j])\n",
    "    trains2.append(train1)\n",
    "    trains2_label.append(2)\n",
    "trains.append(trains2)\n",
    "trains_label.append(trains2_label)\n",
    "\n",
    "#3\n",
    "sentimentlists = []\n",
    "for line in f3:\n",
    "    s = line.strip().split('\\t')\n",
    "    sentimentlists.append(s)\n",
    "f3.close()\n",
    "\n",
    "trains3 = []\n",
    "trains3_label =[]\n",
    "for i in range(len(sentimentlists)):\n",
    "    train3 = sentimentlists[i][0].split()#sentimentlist 是一个2维列表，第二维只有一个元素，故要加上0\n",
    "    for j in range(len(train3)):\n",
    "        train3[j] = float(train3[j])\n",
    "    trains3.append(train1)\n",
    "    trains3_label.append(3)\n",
    "trains.append(trains3)\n",
    "trains_label.append(trains3_label)\n",
    "\n",
    "\n",
    "# df_train=pd.DataFrame(sentimentlists)\n",
    "#.00和后面的列数居然对不上？\n",
    "print(len(trains))\n",
    "print(len(trains[0]))\n",
    "print(len(trains[0][0]))\n",
    "print(len(trains_label))\n",
    "print(len(trains_label[0]))\n",
    "# print(len(trains_label[0][0]))"
   ],
   "outputs": [
    {
     "output_type": "stream",
     "name": "stdout",
     "text": [
      "4\n",
      "500\n",
      "52\n",
      "4\n",
      "500\n"
     ]
    }
   ],
   "metadata": {}
  },
  {
   "cell_type": "markdown",
   "source": [
    "Create Dataset"
   ],
   "metadata": {}
  },
  {
   "cell_type": "code",
   "execution_count": 111,
   "source": [
    "import torch \n",
    "from torch.utils.data import Dataset\n",
    "\n",
    "class TEDataset(Dataset):\n",
    "    #有可能一次处理一个trains[i]\n",
    "    def __init__(self, X, y=None):\n",
    "        temp = []\n",
    "        for i in range(len(X)):\n",
    "            for j in range(len(X[i])):\n",
    "                temp.append(X[i][j])\n",
    "            pass\n",
    "        pass\n",
    "        self.data = torch.tensor(temp)\n",
    "        \n",
    "        print(len(self.data))\n",
    "        if y is not None:\n",
    "            temp = []\n",
    "            for i in range(len(y)):\n",
    "                for j in range(len(y[i])):\n",
    "                    temp.append(y[i][j])\n",
    "                pass\n",
    "            pass\n",
    "            self.label=torch.tensor(temp)\n",
    "            print(self.label)\n",
    "        else:\n",
    "            self.label = None\n",
    "\n",
    "    def __getitem__(self, idx):\n",
    "        if self.label is not None:\n",
    "            return self.data[idx], self.label[idx]\n",
    "        else:\n",
    "            return self.data[idx]\n",
    "\n",
    "    def __len__(self):\n",
    "        return len(self.data)\n"
   ],
   "outputs": [],
   "metadata": {}
  },
  {
   "cell_type": "markdown",
   "source": [
    "Split the labeled data into a training set and a validation set, you can modify the variable VAL_RATIO to change the ratio of validation data."
   ],
   "metadata": {}
  },
  {
   "cell_type": "code",
   "execution_count": 114,
   "source": [
    "import numpy as np\n",
    "\n",
    "\n",
    "VAL_RATIO = 0.25\n",
    "\n",
    "trains_np = np.array(trains)\n",
    "trains_np_label = np.array(trains_label)\n",
    "\n",
    "percent = int(len(trains) * (1 - VAL_RATIO))\n",
    "train_x, train_y, val_x, val_y = trains[:percent], trains_label[:percent], trains[percent:], trains_label[percent:]\n",
    "print(len(train_x))\n",
    "print(len(train_x[0]))\n",
    "print(len(train_x[0][0]))\n",
    "print(len(train_y))\n",
    "print(len(train_y[0]))\n",
    "# print(len(train_y[0][0]))"
   ],
   "outputs": [
    {
     "output_type": "stream",
     "name": "stdout",
     "text": [
      "3\n",
      "500\n",
      "52\n",
      "3\n",
      "500\n"
     ]
    },
    {
     "output_type": "stream",
     "name": "stderr",
     "text": [
      "/home/lanpokn/anaconda3/lib/python3.6/site-packages/ipykernel_launcher.py:6: VisibleDeprecationWarning: Creating an ndarray from ragged nested sequences (which is a list-or-tuple of lists-or-tuples-or ndarrays with different lengths or shapes) is deprecated. If you meant to do this, you must specify 'dtype=object' when creating the ndarray\n",
      "  \n",
      "/home/lanpokn/anaconda3/lib/python3.6/site-packages/ipykernel_launcher.py:7: VisibleDeprecationWarning: Creating an ndarray from ragged nested sequences (which is a list-or-tuple of lists-or-tuples-or ndarrays with different lengths or shapes) is deprecated. If you meant to do this, you must specify 'dtype=object' when creating the ndarray\n",
      "  import sys\n"
     ]
    }
   ],
   "metadata": {}
  },
  {
   "cell_type": "markdown",
   "source": [
    "Create a data loader from the dataset, feel free to tweak the variable BATCH_SIZE here."
   ],
   "metadata": {}
  },
  {
   "cell_type": "code",
   "execution_count": 115,
   "source": [
    "BATCH_SIZE = 64\n",
    "\n",
    "from torch.utils.data import DataLoader\n",
    "\n",
    "train_set = TEDataset(train_x, train_y)\n",
    "val_set = TEDataset(val_x, val_y)\n",
    "train_loader = DataLoader(train_set, batch_size=BATCH_SIZE, shuffle=True) #only shuffle the training data\n",
    "val_loader = DataLoader(val_set, batch_size=BATCH_SIZE, shuffle=False)"
   ],
   "outputs": [
    {
     "output_type": "stream",
     "name": "stdout",
     "text": [
      "1460\n",
      "480\n"
     ]
    }
   ],
   "metadata": {}
  },
  {
   "cell_type": "markdown",
   "source": [
    "Define model architecture, you are encouraged to change and experiment with the model architecture."
   ],
   "metadata": {}
  },
  {
   "cell_type": "code",
   "execution_count": null,
   "source": [
    "import torch\n",
    "import torch.nn as nn\n",
    "#输入有52个向量，输出目前有四个，信息分数可以根据四个输出进行判断\n",
    "class Classifier(nn.Module):\n",
    "    def __init__(self):\n",
    "        super(Classifier, self).__init__()\n",
    "        # self.layer1 = nn.Linear(429, 1024)\n",
    "        # self.layer2 = nn.Linear(1024, 512)\n",
    "        # self.layer3 = nn.Linear(512, 128)\n",
    "        # self.out = nn.Linear(128, 39) \n",
    "\n",
    "        # self.act_fn = nn.Sigmoid()\n",
    "        # define neural network layers\n",
    "        self.model = nn.Sequential(\n",
    "            nn.Linear(52, 200),\n",
    "            #nn.Sigmoid(),\n",
    "            nn.LeakyReLU(0.02),\n",
    "\n",
    "            nn.LayerNorm(200),\n",
    "            \n",
    "            nn.Linear(200, 10),\n",
    "            nn.Sigmoid()\n",
    "            #nn.LeakyReLU(0.02)\n",
    "        )\n",
    "\n",
    "    def forward(self, x):\n",
    "        return self.model(x)"
   ],
   "outputs": [],
   "metadata": {}
  },
  {
   "cell_type": "markdown",
   "source": [
    "Training"
   ],
   "metadata": {}
  },
  {
   "cell_type": "code",
   "execution_count": null,
   "source": [
    "#check device\n",
    "def get_device():\n",
    "  return 'cuda' if torch.cuda.is_available() else 'cpu'"
   ],
   "outputs": [],
   "metadata": {}
  },
  {
   "cell_type": "markdown",
   "source": [
    "(optional)\n",
    "Fix random seeds for reproducibility."
   ],
   "metadata": {}
  },
  {
   "cell_type": "code",
   "execution_count": null,
   "source": [
    "# fix random seed\n",
    "def same_seeds(seed):\n",
    "    torch.manual_seed(seed)\n",
    "    if torch.cuda.is_available():\n",
    "        torch.cuda.manual_seed(seed)\n",
    "        torch.cuda.manual_seed_all(seed)  \n",
    "    np.random.seed(seed)  \n",
    "    torch.backends.cudnn.benchmark = False\n",
    "    torch.backends.cudnn.deterministic = True"
   ],
   "outputs": [],
   "metadata": {}
  },
  {
   "cell_type": "code",
   "execution_count": null,
   "source": [
    "# Feel free to change the training parameters here.\n",
    "# fix random seed for reproducibility\n",
    "same_seeds(0)\n",
    "\n",
    "# get device \n",
    "device = get_device()\n",
    "print(f'DEVICE: {device}')\n",
    "\n",
    "# training parameters\n",
    "num_epoch = 20               # number of training epoch\n",
    "learning_rate = 0.0001       # learning rate\n",
    "\n",
    "# the path where checkpoint saved\n",
    "model_path = './model.ckpt'\n",
    "\n",
    "# create model, define a loss function, and optimizer\n",
    "model = Classifier().to(device)\n",
    "criterion = nn.CrossEntropyLoss() \n",
    "optimizer = torch.optim.Adam(model.parameters(), lr=learning_rate)"
   ],
   "outputs": [
    {
     "output_type": "stream",
     "name": "stdout",
     "text": [
      "DEVICE: cpu\n"
     ]
    }
   ],
   "metadata": {}
  },
  {
   "cell_type": "code",
   "execution_count": 113,
   "source": [
    "# start training\n",
    "#问题：交叉熵不要自己独热化，给0到n-1作为标签即可\n",
    "\n",
    "best_acc = 0.0\n",
    "for epoch in range(num_epoch):\n",
    "    train_acc = 0.0\n",
    "    train_loss = 0.0\n",
    "    val_acc = 0.0\n",
    "    val_loss = 0.0\n",
    "\n",
    "    # training\n",
    "    model.train() # set the model to training mode\n",
    "    for i, data in enumerate(train_loader):\n",
    "        inputs, labels = data\n",
    "        inputs, labels = inputs.to(device), labels.to(device)\n",
    "        optimizer.zero_grad() \n",
    "        outputs = model(inputs) \n",
    "        batch_loss = criterion(outputs, labels)\n",
    "        _, train_pred = torch.max(outputs, 1) # get the index of the class with the highest probability\n",
    "        batch_loss.backward() \n",
    "        optimizer.step() \n",
    "\n",
    "        train_acc += (train_pred.cpu() == labels.cpu()).sum().item()\n",
    "        train_loss += batch_loss.item()\n",
    "\n",
    "    # validation\n",
    "    if len(val_set) > 0:\n",
    "        model.eval() # set the model to evaluation mode\n",
    "        with torch.no_grad():\n",
    "            for i, data in enumerate(val_loader):\n",
    "                inputs, labels = data\n",
    "                inputs, labels = inputs.to(device), labels.to(device)\n",
    "                outputs = model(inputs)\n",
    "                batch_loss = criterion(outputs, labels) \n",
    "                _, val_pred = torch.max(outputs, 1) \n",
    "            \n",
    "                val_acc += (val_pred.cpu() == labels.cpu()).sum().item() # get the index of the class with the highest probability\n",
    "                val_loss += batch_loss.item()\n",
    "\n",
    "            print('[{:03d}/{:03d}] Train Acc: {:3.6f} Loss: {:3.6f} | Val Acc: {:3.6f} loss: {:3.6f}'.format(\n",
    "                epoch + 1, num_epoch, train_acc/len(train_set), train_loss/len(train_loader), val_acc/len(val_set), val_loss/len(val_loader)\n",
    "            ))\n",
    "\n",
    "            # if the model improves, save a checkpoint at this epoch\n",
    "            if val_acc > best_acc:\n",
    "                best_acc = val_acc\n",
    "                torch.save(model.state_dict(), model_path)\n",
    "                print('saving model with acc {:.3f}'.format(best_acc/len(val_set)))\n",
    "    else:\n",
    "        print('[{:03d}/{:03d}] Train Acc: {:3.6f} Loss: {:3.6f}'.format(\n",
    "            epoch + 1, num_epoch, train_acc/len(train_set), train_loss/len(train_loader)\n",
    "        ))\n",
    "\n",
    "# if not validating, save the last epoch\n",
    "if len(val_set) == 0:\n",
    "    torch.save(model.state_dict(), model_path)\n",
    "    print('saving model at last epoch')"
   ],
   "outputs": [
    {
     "output_type": "error",
     "ename": "RuntimeError",
     "evalue": "1D target tensor expected, multi-target not supported",
     "traceback": [
      "\u001b[0;31m---------------------------------------------------------------------------\u001b[0m",
      "\u001b[0;31mRuntimeError\u001b[0m                              Traceback (most recent call last)",
      "\u001b[0;32m<ipython-input-113-c56c79d8f14c>\u001b[0m in \u001b[0;36m<module>\u001b[0;34m()\u001b[0m\n\u001b[1;32m     16\u001b[0m         \u001b[0moptimizer\u001b[0m\u001b[0;34m.\u001b[0m\u001b[0mzero_grad\u001b[0m\u001b[0;34m(\u001b[0m\u001b[0;34m)\u001b[0m\u001b[0;34m\u001b[0m\u001b[0m\n\u001b[1;32m     17\u001b[0m         \u001b[0moutputs\u001b[0m \u001b[0;34m=\u001b[0m \u001b[0mmodel\u001b[0m\u001b[0;34m(\u001b[0m\u001b[0minputs\u001b[0m\u001b[0;34m)\u001b[0m\u001b[0;34m\u001b[0m\u001b[0m\n\u001b[0;32m---> 18\u001b[0;31m         \u001b[0mbatch_loss\u001b[0m \u001b[0;34m=\u001b[0m \u001b[0mcriterion\u001b[0m\u001b[0;34m(\u001b[0m\u001b[0moutputs\u001b[0m\u001b[0;34m,\u001b[0m \u001b[0mlabels\u001b[0m\u001b[0;34m)\u001b[0m\u001b[0;34m\u001b[0m\u001b[0m\n\u001b[0m\u001b[1;32m     19\u001b[0m         \u001b[0m_\u001b[0m\u001b[0;34m,\u001b[0m \u001b[0mtrain_pred\u001b[0m \u001b[0;34m=\u001b[0m \u001b[0mtorch\u001b[0m\u001b[0;34m.\u001b[0m\u001b[0mmax\u001b[0m\u001b[0;34m(\u001b[0m\u001b[0moutputs\u001b[0m\u001b[0;34m,\u001b[0m \u001b[0;36m1\u001b[0m\u001b[0;34m)\u001b[0m \u001b[0;31m# get the index of the class with the highest probability\u001b[0m\u001b[0;34m\u001b[0m\u001b[0m\n\u001b[1;32m     20\u001b[0m         \u001b[0mbatch_loss\u001b[0m\u001b[0;34m.\u001b[0m\u001b[0mbackward\u001b[0m\u001b[0;34m(\u001b[0m\u001b[0;34m)\u001b[0m\u001b[0;34m\u001b[0m\u001b[0m\n",
      "\u001b[0;32m~/.local/lib/python3.6/site-packages/torch/nn/modules/module.py\u001b[0m in \u001b[0;36m_call_impl\u001b[0;34m(self, *input, **kwargs)\u001b[0m\n\u001b[1;32m   1049\u001b[0m         if not (self._backward_hooks or self._forward_hooks or self._forward_pre_hooks or _global_backward_hooks\n\u001b[1;32m   1050\u001b[0m                 or _global_forward_hooks or _global_forward_pre_hooks):\n\u001b[0;32m-> 1051\u001b[0;31m             \u001b[0;32mreturn\u001b[0m \u001b[0mforward_call\u001b[0m\u001b[0;34m(\u001b[0m\u001b[0;34m*\u001b[0m\u001b[0minput\u001b[0m\u001b[0;34m,\u001b[0m \u001b[0;34m**\u001b[0m\u001b[0mkwargs\u001b[0m\u001b[0;34m)\u001b[0m\u001b[0;34m\u001b[0m\u001b[0m\n\u001b[0m\u001b[1;32m   1052\u001b[0m         \u001b[0;31m# Do not call functions when jit is used\u001b[0m\u001b[0;34m\u001b[0m\u001b[0;34m\u001b[0m\u001b[0m\n\u001b[1;32m   1053\u001b[0m         \u001b[0mfull_backward_hooks\u001b[0m\u001b[0;34m,\u001b[0m \u001b[0mnon_full_backward_hooks\u001b[0m \u001b[0;34m=\u001b[0m \u001b[0;34m[\u001b[0m\u001b[0;34m]\u001b[0m\u001b[0;34m,\u001b[0m \u001b[0;34m[\u001b[0m\u001b[0;34m]\u001b[0m\u001b[0;34m\u001b[0m\u001b[0m\n",
      "\u001b[0;32m~/.local/lib/python3.6/site-packages/torch/nn/modules/loss.py\u001b[0m in \u001b[0;36mforward\u001b[0;34m(self, input, target)\u001b[0m\n\u001b[1;32m   1119\u001b[0m     \u001b[0;32mdef\u001b[0m \u001b[0mforward\u001b[0m\u001b[0;34m(\u001b[0m\u001b[0mself\u001b[0m\u001b[0;34m,\u001b[0m \u001b[0minput\u001b[0m\u001b[0;34m:\u001b[0m \u001b[0mTensor\u001b[0m\u001b[0;34m,\u001b[0m \u001b[0mtarget\u001b[0m\u001b[0;34m:\u001b[0m \u001b[0mTensor\u001b[0m\u001b[0;34m)\u001b[0m \u001b[0;34m->\u001b[0m \u001b[0mTensor\u001b[0m\u001b[0;34m:\u001b[0m\u001b[0;34m\u001b[0m\u001b[0m\n\u001b[1;32m   1120\u001b[0m         return F.cross_entropy(input, target, weight=self.weight,\n\u001b[0;32m-> 1121\u001b[0;31m                                ignore_index=self.ignore_index, reduction=self.reduction)\n\u001b[0m\u001b[1;32m   1122\u001b[0m \u001b[0;34m\u001b[0m\u001b[0m\n\u001b[1;32m   1123\u001b[0m \u001b[0;34m\u001b[0m\u001b[0m\n",
      "\u001b[0;32m~/.local/lib/python3.6/site-packages/torch/nn/functional.py\u001b[0m in \u001b[0;36mcross_entropy\u001b[0;34m(input, target, weight, size_average, ignore_index, reduce, reduction)\u001b[0m\n\u001b[1;32m   2822\u001b[0m     \u001b[0;32mif\u001b[0m \u001b[0msize_average\u001b[0m \u001b[0;32mis\u001b[0m \u001b[0;32mnot\u001b[0m \u001b[0;32mNone\u001b[0m \u001b[0;32mor\u001b[0m \u001b[0mreduce\u001b[0m \u001b[0;32mis\u001b[0m \u001b[0;32mnot\u001b[0m \u001b[0;32mNone\u001b[0m\u001b[0;34m:\u001b[0m\u001b[0;34m\u001b[0m\u001b[0m\n\u001b[1;32m   2823\u001b[0m         \u001b[0mreduction\u001b[0m \u001b[0;34m=\u001b[0m \u001b[0m_Reduction\u001b[0m\u001b[0;34m.\u001b[0m\u001b[0mlegacy_get_string\u001b[0m\u001b[0;34m(\u001b[0m\u001b[0msize_average\u001b[0m\u001b[0;34m,\u001b[0m \u001b[0mreduce\u001b[0m\u001b[0;34m)\u001b[0m\u001b[0;34m\u001b[0m\u001b[0m\n\u001b[0;32m-> 2824\u001b[0;31m     \u001b[0;32mreturn\u001b[0m \u001b[0mtorch\u001b[0m\u001b[0;34m.\u001b[0m\u001b[0m_C\u001b[0m\u001b[0;34m.\u001b[0m\u001b[0m_nn\u001b[0m\u001b[0;34m.\u001b[0m\u001b[0mcross_entropy_loss\u001b[0m\u001b[0;34m(\u001b[0m\u001b[0minput\u001b[0m\u001b[0;34m,\u001b[0m \u001b[0mtarget\u001b[0m\u001b[0;34m,\u001b[0m \u001b[0mweight\u001b[0m\u001b[0;34m,\u001b[0m \u001b[0m_Reduction\u001b[0m\u001b[0;34m.\u001b[0m\u001b[0mget_enum\u001b[0m\u001b[0;34m(\u001b[0m\u001b[0mreduction\u001b[0m\u001b[0;34m)\u001b[0m\u001b[0;34m,\u001b[0m \u001b[0mignore_index\u001b[0m\u001b[0;34m)\u001b[0m\u001b[0;34m\u001b[0m\u001b[0m\n\u001b[0m\u001b[1;32m   2825\u001b[0m \u001b[0;34m\u001b[0m\u001b[0m\n\u001b[1;32m   2826\u001b[0m \u001b[0;34m\u001b[0m\u001b[0m\n",
      "\u001b[0;31mRuntimeError\u001b[0m: 1D target tensor expected, multi-target not supported"
     ]
    }
   ],
   "metadata": {}
  }
 ],
 "metadata": {
  "orig_nbformat": 4,
  "language_info": {
   "name": "python",
   "version": "3.6.3",
   "mimetype": "text/x-python",
   "codemirror_mode": {
    "name": "ipython",
    "version": 3
   },
   "pygments_lexer": "ipython3",
   "nbconvert_exporter": "python",
   "file_extension": ".py"
  },
  "kernelspec": {
   "name": "python3",
   "display_name": "Python 3.6.3 64-bit ('base': conda)"
  },
  "interpreter": {
   "hash": "9ae343dddec10aefd08a2750816ac8aba9822b9f7d9bb3e7559e2f5e4d741eea"
  }
 },
 "nbformat": 4,
 "nbformat_minor": 2
}
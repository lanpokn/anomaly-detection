{
 "cells": [
  {
   "cell_type": "markdown",
   "source": [
    "Preparing data"
   ],
   "metadata": {}
  },
  {
   "cell_type": "code",
   "execution_count": 30,
   "source": [
    "import pandas as pd\n",
    "#有么有改进方法？\n",
    "#初步定为：4个train(0-3)，后三个不在train中出现，为异常检测部分\n",
    "#从哪里学习数据处理的操作？\n",
    "f0=open(r'/home/lanpokn/Documents/vscode/python project/srtp/anomaly detect/TE REAL/d00.dat',encoding='utf-8')\n",
    "f1=open(r'/home/lanpokn/Documents/vscode/python project/srtp/anomaly detect/TE REAL/d01.dat',encoding='utf-8')\n",
    "f2=open(r'/home/lanpokn/Documents/vscode/python project/srtp/anomaly detect/TE REAL/d02.dat',encoding='utf-8')\n",
    "f3=open(r'/home/lanpokn/Documents/vscode/python project/srtp/anomaly detect/TE REAL/d03.dat',encoding='utf-8')\n",
    "f4=open(r'/home/lanpokn/Documents/vscode/python project/srtp/anomaly detect/TE REAL/d04.dat',encoding='utf-8')\n",
    "f5=open(r'/home/lanpokn/Documents/vscode/python project/srtp/anomaly detect/TE REAL/d05.dat',encoding='utf-8')\n",
    "f6=open(r'/home/lanpokn/Documents/vscode/python project/srtp/anomaly detect/TE REAL/d06.dat',encoding='utf-8')\n",
    "f7=open(r'/home/lanpokn/Documents/vscode/python project/srtp/anomaly detect/TE REAL/d07.dat',encoding='utf-8')\n",
    "f8=open(r'/home/lanpokn/Documents/vscode/python project/srtp/anomaly detect/TE REAL/d08.dat',encoding='utf-8')\n",
    "f9=open(r'/home/lanpokn/Documents/vscode/python project/srtp/anomaly detect/TE REAL/d09.dat',encoding='utf-8')\n",
    "f10=open(r'/home/lanpokn/Documents/vscode/python project/srtp/anomaly detect/TE REAL/d10.dat',encoding='utf-8')\n",
    "f11=open(r'/home/lanpokn/Documents/vscode/python project/srtp/anomaly detect/TE REAL/d11.dat',encoding='utf-8')\n",
    "f12=open(r'/home/lanpokn/Documents/vscode/python project/srtp/anomaly detect/TE REAL/d12.dat',encoding='utf-8')\n",
    "f13=open(r'/home/lanpokn/Documents/vscode/python project/srtp/anomaly detect/TE REAL/d13.dat',encoding='utf-8')\n",
    "f14=open(r'/home/lanpokn/Documents/vscode/python project/srtp/anomaly detect/TE REAL/d14.dat',encoding='utf-8')\n",
    "f15=open(r'/home/lanpokn/Documents/vscode/python project/srtp/anomaly detect/TE REAL/d15.dat',encoding='utf-8')\n",
    "f16=open(r'/home/lanpokn/Documents/vscode/python project/srtp/anomaly detect/TE REAL/d16.dat',encoding='utf-8')\n",
    "f17=open(r'/home/lanpokn/Documents/vscode/python project/srtp/anomaly detect/TE REAL/d17.dat',encoding='utf-8')\n",
    "f18=open(r'/home/lanpokn/Documents/vscode/python project/srtp/anomaly detect/TE REAL/d18.dat',encoding='utf-8')\n",
    "f19=open(r'/home/lanpokn/Documents/vscode/python project/srtp/anomaly detect/TE REAL/d19.dat',encoding='utf-8')\n",
    "f20=open(r'/home/lanpokn/Documents/vscode/python project/srtp/anomaly detect/TE REAL/d20.dat',encoding='utf-8')\n",
    "f21=open(r'/home/lanpokn/Documents/vscode/python project/srtp/anomaly detect/TE REAL/d21.dat',encoding='utf-8')\n",
    "trains = []\n",
    "trains_label = []\n",
    "#0\n",
    "sentimentlists = []\n",
    "for line in f0:\n",
    "    s = line.strip().split('\\t')\n",
    "    sentimentlists.append(s)\n",
    "f0.close()\n",
    "\n",
    "trains0 = []\n",
    "trains0_label =[]\n",
    "for i in range(len(sentimentlists)):\n",
    "    train0 = sentimentlists[i][0].split()#sentimentlist 是一个2维列表，第二维只有一个元素，故要加上0\n",
    "    trains0.append(train0)\n",
    "    trains0_label.append([1,0,0,0])\n",
    "trains.append(trains0)\n",
    "trains_label.append(trains0_label)\n",
    "\n",
    "#1\n",
    "sentimentlists = []\n",
    "for line in f1:\n",
    "    s = line.strip().split('\\t')\n",
    "    sentimentlists.append(s)\n",
    "f1.close()\n",
    "\n",
    "trains1 = []\n",
    "trains1_label =[]\n",
    "for i in range(len(sentimentlists)):\n",
    "    train1 = sentimentlists[i][0].split()#sentimentlist 是一个2维列表，第二维只有一个元素，故要加上0\n",
    "    trains1.append(train1)\n",
    "    trains1_label.append([0,1,0,0])\n",
    "trains.append(trains1)\n",
    "trains_label.append(trains1_label)\n",
    "\n",
    "#2\n",
    "sentimentlists = []\n",
    "for line in f2:\n",
    "    s = line.strip().split('\\t')\n",
    "    sentimentlists.append(s)\n",
    "f2.close()\n",
    "\n",
    "trains2 = []\n",
    "trains2_label =[]\n",
    "for i in range(len(sentimentlists)):\n",
    "    train2 = sentimentlists[i][0].split()#sentimentlist 是一个2维列表，第二维只有一个元素，故要加上0\n",
    "    trains2.append(train1)\n",
    "    trains2_label.append([0,0,1,0])\n",
    "trains.append(trains2)\n",
    "trains_label.append(trains2_label)\n",
    "\n",
    "#3\n",
    "sentimentlists = []\n",
    "for line in f3:\n",
    "    s = line.strip().split('\\t')\n",
    "    sentimentlists.append(s)\n",
    "f3.close()\n",
    "\n",
    "trains3 = []\n",
    "trains3_label =[]\n",
    "for i in range(len(sentimentlists)):\n",
    "    train3 = sentimentlists[i][0].split()#sentimentlist 是一个2维列表，第二维只有一个元素，故要加上0\n",
    "    trains3.append(train1)\n",
    "    trains3_label.append([0,0,0,1])\n",
    "trains.append(trains3)\n",
    "trains_label.append(trains3_label)\n",
    "\n",
    "\n",
    "# df_train=pd.DataFrame(sentimentlists)\n",
    "print(len(trains))\n",
    "print(len(trains[0]))\n",
    "print(len(trains[0][0]))\n",
    "print(len(trains_label))\n",
    "print(len(trains_label[0]))\n",
    "print(len(trains_label[0][0]))\n",
    "\n",
    "\n",
    "\n"
   ],
   "outputs": [
    {
     "output_type": "stream",
     "name": "stdout",
     "text": [
      "4\n",
      "52\n",
      "500\n",
      "4\n",
      "52\n",
      "4\n"
     ]
    }
   ],
   "metadata": {}
  },
  {
   "cell_type": "markdown",
   "source": [
    "Create Dataset"
   ],
   "metadata": {}
  },
  {
   "cell_type": "code",
   "execution_count": null,
   "source": [
    "import torch \n",
    "from torch.utils.data import Dataset\n",
    "\n",
    "class TEDataset(Dataset):\n",
    "    #X:trains,y:labels\n",
    "    def __init__(self, X, y=None):\n",
    "        self.data = torch.tensor(X)\n",
    "        #???\n",
    "        if y is not None:\n",
    "            y = y.astype(np.int)\n",
    "            self.label = torch.LongTensor(y)\n",
    "        else:\n",
    "            self.label = None\n",
    "\n",
    "    def __getitem__(self, idx):\n",
    "        if self.label is not None:\n",
    "            return self.data[idx], self.label[idx]\n",
    "        else:\n",
    "            return self.data[idx]\n",
    "\n",
    "    def __len__(self):\n",
    "        return len(self.data)"
   ],
   "outputs": [],
   "metadata": {}
  },
  {
   "cell_type": "markdown",
   "source": [
    "Split the labeled data into a training set and a validation set, you can modify the variable VAL_RATIO to change the ratio of validation data."
   ],
   "metadata": {}
  },
  {
   "cell_type": "code",
   "execution_count": null,
   "source": [
    "VAL_RATIO = 0.2\n",
    "\n",
    "percent = int(train.shape[0] * (1 - VAL_RATIO))\n",
    "train_x, train_y, val_x, val_y = trains[:percent], train_label[:percent], trains[percent:], train_label[percent:]\n",
    "print('Size of training set: {}'.format(train_x.shape))\n",
    "print('Size of validation set: {}'.format(val_x.shape))"
   ],
   "outputs": [],
   "metadata": {}
  },
  {
   "cell_type": "markdown",
   "source": [
    "Create a data loader from the dataset, feel free to tweak the variable BATCH_SIZE here."
   ],
   "metadata": {}
  },
  {
   "cell_type": "code",
   "execution_count": null,
   "source": [
    "BATCH_SIZE = 64\n",
    "\n",
    "from torch.utils.data import DataLoader\n",
    "\n",
    "train_set = TIMITDataset(train_x, train_y)\n",
    "val_set = TIMITDataset(val_x, val_y)\n",
    "train_loader = DataLoader(train_set, batch_size=BATCH_SIZE, shuffle=True) #only shuffle the training data\n",
    "val_loader = DataLoader(val_set, batch_size=BATCH_SIZE, shuffle=False)"
   ],
   "outputs": [],
   "metadata": {}
  }
 ],
 "metadata": {
  "orig_nbformat": 4,
  "language_info": {
   "name": "python",
   "version": "3.6.3",
   "mimetype": "text/x-python",
   "codemirror_mode": {
    "name": "ipython",
    "version": 3
   },
   "pygments_lexer": "ipython3",
   "nbconvert_exporter": "python",
   "file_extension": ".py"
  },
  "kernelspec": {
   "name": "python3",
   "display_name": "Python 3.6.3 64-bit ('base': conda)"
  },
  "interpreter": {
   "hash": "9ae343dddec10aefd08a2750816ac8aba9822b9f7d9bb3e7559e2f5e4d741eea"
  }
 },
 "nbformat": 4,
 "nbformat_minor": 2
}
{
 "cells": [
  {
   "cell_type": "code",
   "execution_count": 63,
   "source": [
    "#d00居然是反的？？？\n",
    "\n",
    "import pandas as pd\n",
    "#有么有改进方法？\n",
    "#初步定为：4个train(0-3)，后三个不在train中出现，为异常检测部分\n",
    "#从哪里学习数据处理的操作？\n",
    "f0=open(r'/home/lanpokn/Documents/vscode/python project/srtp/anomaly detect/TE REAL/d00.dat',encoding='utf-8')\n",
    "f1=open(r'/home/lanpokn/Documents/vscode/python project/srtp/anomaly detect/TE REAL/d01.dat',encoding='utf-8')\n",
    "f2=open(r'/home/lanpokn/Documents/vscode/python project/srtp/anomaly detect/TE REAL/d02.dat',encoding='utf-8')\n",
    "f3=open(r'/home/lanpokn/Documents/vscode/python project/srtp/anomaly detect/TE REAL/d03.dat',encoding='utf-8')\n",
    "f4=open(r'/home/lanpokn/Documents/vscode/python project/srtp/anomaly detect/TE REAL/d04.dat',encoding='utf-8')\n",
    "f5=open(r'/home/lanpokn/Documents/vscode/python project/srtp/anomaly detect/TE REAL/d05.dat',encoding='utf-8')\n",
    "f6=open(r'/home/lanpokn/Documents/vscode/python project/srtp/anomaly detect/TE REAL/d06.dat',encoding='utf-8')\n",
    "f7=open(r'/home/lanpokn/Documents/vscode/python project/srtp/anomaly detect/TE REAL/d07.dat',encoding='utf-8')\n",
    "f8=open(r'/home/lanpokn/Documents/vscode/python project/srtp/anomaly detect/TE REAL/d08.dat',encoding='utf-8')\n",
    "f9=open(r'/home/lanpokn/Documents/vscode/python project/srtp/anomaly detect/TE REAL/d09.dat',encoding='utf-8')\n",
    "f10=open(r'/home/lanpokn/Documents/vscode/python project/srtp/anomaly detect/TE REAL/d10.dat',encoding='utf-8')\n",
    "f11=open(r'/home/lanpokn/Documents/vscode/python project/srtp/anomaly detect/TE REAL/d11.dat',encoding='utf-8')\n",
    "f12=open(r'/home/lanpokn/Documents/vscode/python project/srtp/anomaly detect/TE REAL/d12.dat',encoding='utf-8')\n",
    "f13=open(r'/home/lanpokn/Documents/vscode/python project/srtp/anomaly detect/TE REAL/d13.dat',encoding='utf-8')\n",
    "f14=open(r'/home/lanpokn/Documents/vscode/python project/srtp/anomaly detect/TE REAL/d14.dat',encoding='utf-8')\n",
    "f15=open(r'/home/lanpokn/Documents/vscode/python project/srtp/anomaly detect/TE REAL/d15.dat',encoding='utf-8')\n",
    "f16=open(r'/home/lanpokn/Documents/vscode/python project/srtp/anomaly detect/TE REAL/d16.dat',encoding='utf-8')\n",
    "f17=open(r'/home/lanpokn/Documents/vscode/python project/srtp/anomaly detect/TE REAL/d17.dat',encoding='utf-8')\n",
    "f18=open(r'/home/lanpokn/Documents/vscode/python project/srtp/anomaly detect/TE REAL/d18.dat',encoding='utf-8')\n",
    "f19=open(r'/home/lanpokn/Documents/vscode/python project/srtp/anomaly detect/TE REAL/d19.dat',encoding='utf-8')\n",
    "f20=open(r'/home/lanpokn/Documents/vscode/python project/srtp/anomaly detect/TE REAL/d20.dat',encoding='utf-8')\n",
    "f21=open(r'/home/lanpokn/Documents/vscode/python project/srtp/anomaly detect/TE REAL/d21.dat',encoding='utf-8')\n",
    "trains = []\n",
    "trains_label = []\n",
    "#0\n",
    "sentimentlists = []\n",
    "for line in f0:\n",
    "    s = line.strip().split('\\t')\n",
    "    sentimentlists.append(s)\n",
    "f0.close()\n",
    "\n",
    "trains0 = []\n",
    "trains0_label =[]\n",
    "for i in range(len(sentimentlists)):\n",
    "    train0 = sentimentlists[i][0].split()#sentimentlist 是一个2维列表，第二维只有一个元素，故要加上0\n",
    "    for j in range(len(train0)):\n",
    "        train0[j] = float(train0[j])\n",
    "    trains0.append(train0)\n",
    "    trains0_label.append([1,0,0,0])\n",
    "#由于d00.dat出现了问题，在此手动对其转置\n",
    "trains0_t = []\n",
    "for i in range(len(trains0[0])):\n",
    "    trains0_t1 = []\n",
    "    for j in range(len(trains0)):\n",
    "        trains0_t1.append(trains0[j][i])\n",
    "    trains0_t.append(trains0_t1)\n",
    "    pass\n",
    "for i in range(len(trains0_label),len(trains0_t)):\n",
    "    trains0_label.append([1,0,0,0])\n",
    "    pass\n",
    "\n",
    "trains.append(trains0_t)\n",
    "trains_label.append(trains0_label)\n",
    "\n",
    "\n",
    "#1\n",
    "sentimentlists = []\n",
    "for line in f1:\n",
    "    s = line.strip().split('\\t')\n",
    "    sentimentlists.append(s)\n",
    "f1.close()\n",
    "\n",
    "trains1 = []\n",
    "trains1_label =[]\n",
    "for i in range(len(sentimentlists)):\n",
    "    train1 = sentimentlists[i][0].split()#sentimentlist 是一个2维列表，第二维只有一个元素，故要加上0\n",
    "    for j in range(len(train1)):\n",
    "        train1[j] = float(train1[j])\n",
    "    trains1.append(train1)\n",
    "    trains1_label.append([0,1,0,0])\n",
    "trains.append(trains1)\n",
    "trains_label.append(trains1_label)\n",
    "\n",
    "#2\n",
    "sentimentlists = []\n",
    "for line in f2:\n",
    "    s = line.strip().split('\\t')\n",
    "    sentimentlists.append(s)\n",
    "f2.close()\n",
    "\n",
    "trains2 = []\n",
    "trains2_label =[]\n",
    "for i in range(len(sentimentlists)):\n",
    "    train2 = sentimentlists[i][0].split()#sentimentlist 是一个2维列表，第二维只有一个元素，故要加上0\n",
    "    for j in range(len(train2)):\n",
    "        train2[j] = float(train2[j])\n",
    "    trains2.append(train1)\n",
    "    trains2_label.append([0,0,1,0])\n",
    "trains.append(trains2)\n",
    "trains_label.append(trains2_label)\n",
    "\n",
    "#3\n",
    "sentimentlists = []\n",
    "for line in f3:\n",
    "    s = line.strip().split('\\t')\n",
    "    sentimentlists.append(s)\n",
    "f3.close()\n",
    "\n",
    "trains3 = []\n",
    "trains3_label =[]\n",
    "for i in range(len(sentimentlists)):\n",
    "    train3 = sentimentlists[i][0].split()#sentimentlist 是一个2维列表，第二维只有一个元素，故要加上0\n",
    "    for j in range(len(train3)):\n",
    "        train3[j] = float(train3[j])\n",
    "    trains3.append(train1)\n",
    "    trains3_label.append([0,0,0,1])\n",
    "trains.append(trains3)\n",
    "trains_label.append(trains3_label)\n",
    "\n",
    "\n",
    "# df_train=pd.DataFrame(sentimentlists)\n",
    "#.00和后面的列数居然对不上？\n",
    "print(len(trains))\n",
    "print(len(trains[0]))\n",
    "print(len(trains[0][0]))\n",
    "print(len(trains_label))\n",
    "print(len(trains_label[0]))\n",
    "print(len(trains_label[0][0]))"
   ],
   "outputs": [
    {
     "output_type": "stream",
     "name": "stdout",
     "text": [
      "4\n",
      "500\n",
      "52\n",
      "4\n",
      "500\n",
      "4\n"
     ]
    }
   ],
   "metadata": {}
  },
  {
   "cell_type": "markdown",
   "source": [
    "Create Dataset"
   ],
   "metadata": {}
  },
  {
   "cell_type": "code",
   "execution_count": 81,
   "source": [
    "import torch \n",
    "from torch.utils.data import Dataset\n",
    "\n",
    "class TEDataset(Dataset):\n",
    "    #有可能一次处理一个trains[i]\n",
    "    def __init__(self, X, y=None):\n",
    "        temp = []\n",
    "        for i in range(len(X)):\n",
    "            for j in range(len(X[i])):\n",
    "                temp.append(torch.tensor(X[i][j]))\n",
    "            pass\n",
    "        pass\n",
    "        self.data = torch.tensor(temp)\n",
    "        \n",
    "        print(len(self.data))\n",
    "        if y is not None:\n",
    "            temp = []\n",
    "            for i in range(len(y)):\n",
    "                for j in range(len(y[i])):\n",
    "                    temp.append(torch.tensor(y[i][j]))\n",
    "                pass\n",
    "            pass\n",
    "            self.label=torch.tensor(temp)\n",
    "        else:\n",
    "            self.label = None\n",
    "\n",
    "    def __getitem__(self, idx):\n",
    "        if self.label is not None:\n",
    "            return self.data[idx], self.label[idx]\n",
    "        else:\n",
    "            return self.data[idx]\n",
    "\n",
    "    def __len__(self):\n",
    "        return len(self.data)\n"
   ],
   "outputs": [],
   "metadata": {}
  },
  {
   "cell_type": "markdown",
   "source": [
    "Split the labeled data into a training set and a validation set, you can modify the variable VAL_RATIO to change the ratio of validation data."
   ],
   "metadata": {}
  },
  {
   "cell_type": "code",
   "execution_count": 82,
   "source": [
    "import numpy as np\n",
    "\n",
    "\n",
    "VAL_RATIO = 0.25\n",
    "\n",
    "trains_np = np.array(trains)\n",
    "trains_np_label = np.array(trains_label)\n",
    "\n",
    "percent = int(len(trains) * (1 - VAL_RATIO))\n",
    "train_x, train_y, val_x, val_y = trains[:percent], trains_label[:percent], trains[percent:], trains_label[percent:]\n",
    "print(len(train_x))\n",
    "print(len(train_x[0]))\n",
    "print(len(train_x[0][0]))\n",
    "print(len(train_y))\n",
    "print(len(train_y[0]))\n",
    "print(len(train_y[0][0]))"
   ],
   "outputs": [
    {
     "output_type": "stream",
     "name": "stdout",
     "text": [
      "3\n",
      "500\n",
      "52\n",
      "3\n",
      "500\n",
      "4\n"
     ]
    },
    {
     "output_type": "stream",
     "name": "stderr",
     "text": [
      "/home/lanpokn/anaconda3/lib/python3.6/site-packages/ipykernel_launcher.py:6: VisibleDeprecationWarning: Creating an ndarray from ragged nested sequences (which is a list-or-tuple of lists-or-tuples-or ndarrays with different lengths or shapes) is deprecated. If you meant to do this, you must specify 'dtype=object' when creating the ndarray\n",
      "  \n",
      "/home/lanpokn/anaconda3/lib/python3.6/site-packages/ipykernel_launcher.py:7: VisibleDeprecationWarning: Creating an ndarray from ragged nested sequences (which is a list-or-tuple of lists-or-tuples-or ndarrays with different lengths or shapes) is deprecated. If you meant to do this, you must specify 'dtype=object' when creating the ndarray\n",
      "  import sys\n"
     ]
    }
   ],
   "metadata": {}
  },
  {
   "cell_type": "markdown",
   "source": [
    "Create a data loader from the dataset, feel free to tweak the variable BATCH_SIZE here."
   ],
   "metadata": {}
  },
  {
   "cell_type": "code",
   "execution_count": 83,
   "source": [
    "BATCH_SIZE = 64\n",
    "\n",
    "from torch.utils.data import DataLoader\n",
    "\n",
    "train_set = TEDataset(train_x, train_y)\n",
    "val_set = TEDataset(val_x, val_y)\n",
    "train_loader = DataLoader(train_set, batch_size=BATCH_SIZE, shuffle=True) #only shuffle the training data\n",
    "val_loader = DataLoader(val_set, batch_size=BATCH_SIZE, shuffle=False)"
   ],
   "outputs": [
    {
     "output_type": "error",
     "ename": "TypeError",
     "evalue": "tensor() missing 1 required positional arguments: \"data\"",
     "traceback": [
      "\u001b[0;31m---------------------------------------------------------------------------\u001b[0m",
      "\u001b[0;31mTypeError\u001b[0m                                 Traceback (most recent call last)",
      "\u001b[0;32m<ipython-input-83-e4fe27345c2b>\u001b[0m in \u001b[0;36m<module>\u001b[0;34m()\u001b[0m\n\u001b[1;32m      3\u001b[0m \u001b[0;32mfrom\u001b[0m \u001b[0mtorch\u001b[0m\u001b[0;34m.\u001b[0m\u001b[0mutils\u001b[0m\u001b[0;34m.\u001b[0m\u001b[0mdata\u001b[0m \u001b[0;32mimport\u001b[0m \u001b[0mDataLoader\u001b[0m\u001b[0;34m\u001b[0m\u001b[0m\n\u001b[1;32m      4\u001b[0m \u001b[0;34m\u001b[0m\u001b[0m\n\u001b[0;32m----> 5\u001b[0;31m \u001b[0mtrain_set\u001b[0m \u001b[0;34m=\u001b[0m \u001b[0mTEDataset\u001b[0m\u001b[0;34m(\u001b[0m\u001b[0mtrain_x\u001b[0m\u001b[0;34m,\u001b[0m \u001b[0mtrain_y\u001b[0m\u001b[0;34m)\u001b[0m\u001b[0;34m\u001b[0m\u001b[0m\n\u001b[0m\u001b[1;32m      6\u001b[0m \u001b[0mval_set\u001b[0m \u001b[0;34m=\u001b[0m \u001b[0mTEDataset\u001b[0m\u001b[0;34m(\u001b[0m\u001b[0mval_x\u001b[0m\u001b[0;34m,\u001b[0m \u001b[0mval_y\u001b[0m\u001b[0;34m)\u001b[0m\u001b[0;34m\u001b[0m\u001b[0m\n\u001b[1;32m      7\u001b[0m \u001b[0mtrain_loader\u001b[0m \u001b[0;34m=\u001b[0m \u001b[0mDataLoader\u001b[0m\u001b[0;34m(\u001b[0m\u001b[0mtrain_set\u001b[0m\u001b[0;34m,\u001b[0m \u001b[0mbatch_size\u001b[0m\u001b[0;34m=\u001b[0m\u001b[0mBATCH_SIZE\u001b[0m\u001b[0;34m,\u001b[0m \u001b[0mshuffle\u001b[0m\u001b[0;34m=\u001b[0m\u001b[0;32mTrue\u001b[0m\u001b[0;34m)\u001b[0m \u001b[0;31m#only shuffle the training data\u001b[0m\u001b[0;34m\u001b[0m\u001b[0m\n",
      "\u001b[0;32m<ipython-input-81-31de996f8f4d>\u001b[0m in \u001b[0;36m__init__\u001b[0;34m(self, X, y)\u001b[0m\n\u001b[1;32m      5\u001b[0m     \u001b[0;31m#有可能一次处理一个trains[i]\u001b[0m\u001b[0;34m\u001b[0m\u001b[0;34m\u001b[0m\u001b[0m\n\u001b[1;32m      6\u001b[0m     \u001b[0;32mdef\u001b[0m \u001b[0m__init__\u001b[0m\u001b[0;34m(\u001b[0m\u001b[0mself\u001b[0m\u001b[0;34m,\u001b[0m \u001b[0mX\u001b[0m\u001b[0;34m,\u001b[0m \u001b[0my\u001b[0m\u001b[0;34m=\u001b[0m\u001b[0;32mNone\u001b[0m\u001b[0;34m)\u001b[0m\u001b[0;34m:\u001b[0m\u001b[0;34m\u001b[0m\u001b[0m\n\u001b[0;32m----> 7\u001b[0;31m         \u001b[0mself\u001b[0m\u001b[0;34m.\u001b[0m\u001b[0mdata\u001b[0m \u001b[0;34m=\u001b[0m \u001b[0mtorch\u001b[0m\u001b[0;34m.\u001b[0m\u001b[0mtensor\u001b[0m\u001b[0;34m(\u001b[0m\u001b[0;34m)\u001b[0m\u001b[0;34m\u001b[0m\u001b[0m\n\u001b[0m\u001b[1;32m      8\u001b[0m         \u001b[0;32mfor\u001b[0m \u001b[0mi\u001b[0m \u001b[0;32min\u001b[0m \u001b[0mrange\u001b[0m\u001b[0;34m(\u001b[0m\u001b[0mlen\u001b[0m\u001b[0;34m(\u001b[0m\u001b[0mX\u001b[0m\u001b[0;34m)\u001b[0m\u001b[0;34m)\u001b[0m\u001b[0;34m:\u001b[0m\u001b[0;34m\u001b[0m\u001b[0m\n\u001b[1;32m      9\u001b[0m             \u001b[0;32mfor\u001b[0m \u001b[0mj\u001b[0m \u001b[0;32min\u001b[0m \u001b[0mrange\u001b[0m\u001b[0;34m(\u001b[0m\u001b[0mlen\u001b[0m\u001b[0;34m(\u001b[0m\u001b[0mX\u001b[0m\u001b[0;34m[\u001b[0m\u001b[0mi\u001b[0m\u001b[0;34m]\u001b[0m\u001b[0;34m)\u001b[0m\u001b[0;34m)\u001b[0m\u001b[0;34m:\u001b[0m\u001b[0;34m\u001b[0m\u001b[0m\n",
      "\u001b[0;31mTypeError\u001b[0m: tensor() missing 1 required positional arguments: \"data\""
     ]
    }
   ],
   "metadata": {}
  },
  {
   "cell_type": "markdown",
   "source": [
    "Define model architecture, you are encouraged to change and experiment with the model architecture."
   ],
   "metadata": {}
  },
  {
   "cell_type": "code",
   "execution_count": 68,
   "source": [
    "import torch\n",
    "import torch.nn as nn\n",
    "#输入有52个向量，输出目前有四个，信息分数可以根据四个输出进行判断\n",
    "class Classifier(nn.Module):\n",
    "    def __init__(self):\n",
    "        super(Classifier, self).__init__()\n",
    "        # self.layer1 = nn.Linear(429, 1024)\n",
    "        # self.layer2 = nn.Linear(1024, 512)\n",
    "        # self.layer3 = nn.Linear(512, 128)\n",
    "        # self.out = nn.Linear(128, 39) \n",
    "\n",
    "        # self.act_fn = nn.Sigmoid()\n",
    "        # define neural network layers\n",
    "        self.model = nn.Sequential(\n",
    "            nn.Linear(52, 200),\n",
    "            #nn.Sigmoid(),\n",
    "            nn.LeakyReLU(0.02),\n",
    "\n",
    "            nn.LayerNorm(200),\n",
    "            \n",
    "            nn.Linear(200, 10),\n",
    "            nn.Sigmoid()\n",
    "            #nn.LeakyReLU(0.02)\n",
    "        )\n",
    "\n",
    "    def forward(self, x):\n",
    "        return self.model(x)"
   ],
   "outputs": [],
   "metadata": {}
  },
  {
   "cell_type": "markdown",
   "source": [
    "Training"
   ],
   "metadata": {}
  },
  {
   "cell_type": "code",
   "execution_count": 69,
   "source": [
    "#check device\n",
    "def get_device():\n",
    "  return 'cuda' if torch.cuda.is_available() else 'cpu'"
   ],
   "outputs": [],
   "metadata": {}
  },
  {
   "cell_type": "markdown",
   "source": [
    "(optional)\n",
    "Fix random seeds for reproducibility."
   ],
   "metadata": {}
  },
  {
   "cell_type": "code",
   "execution_count": 71,
   "source": [
    "# fix random seed\n",
    "def same_seeds(seed):\n",
    "    torch.manual_seed(seed)\n",
    "    if torch.cuda.is_available():\n",
    "        torch.cuda.manual_seed(seed)\n",
    "        torch.cuda.manual_seed_all(seed)  \n",
    "    np.random.seed(seed)  \n",
    "    torch.backends.cudnn.benchmark = False\n",
    "    torch.backends.cudnn.deterministic = True"
   ],
   "outputs": [],
   "metadata": {}
  },
  {
   "cell_type": "code",
   "execution_count": 72,
   "source": [
    "# Feel free to change the training parameters here.\n",
    "# fix random seed for reproducibility\n",
    "same_seeds(0)\n",
    "\n",
    "# get device \n",
    "device = get_device()\n",
    "print(f'DEVICE: {device}')\n",
    "\n",
    "# training parameters\n",
    "num_epoch = 20               # number of training epoch\n",
    "learning_rate = 0.0001       # learning rate\n",
    "\n",
    "# the path where checkpoint saved\n",
    "model_path = './model.ckpt'\n",
    "\n",
    "# create model, define a loss function, and optimizer\n",
    "model = Classifier().to(device)\n",
    "criterion = nn.CrossEntropyLoss() \n",
    "optimizer = torch.optim.Adam(model.parameters(), lr=learning_rate)"
   ],
   "outputs": [
    {
     "output_type": "stream",
     "name": "stdout",
     "text": [
      "DEVICE: cpu\n"
     ]
    }
   ],
   "metadata": {}
  },
  {
   "cell_type": "code",
   "execution_count": 73,
   "source": [
    "# start training\n",
    "\n",
    "best_acc = 0.0\n",
    "for epoch in range(num_epoch):\n",
    "    train_acc = 0.0\n",
    "    train_loss = 0.0\n",
    "    val_acc = 0.0\n",
    "    val_loss = 0.0\n",
    "\n",
    "    # training\n",
    "    model.train() # set the model to training mode\n",
    "    for i, data in enumerate(train_loader):\n",
    "        inputs, labels = data\n",
    "        inputs, labels = inputs.to(device), labels.to(device)\n",
    "        optimizer.zero_grad() \n",
    "        outputs = model(inputs) \n",
    "        batch_loss = criterion(outputs, labels)\n",
    "        _, train_pred = torch.max(outputs, 1) # get the index of the class with the highest probability\n",
    "        batch_loss.backward() \n",
    "        optimizer.step() \n",
    "\n",
    "        train_acc += (train_pred.cpu() == labels.cpu()).sum().item()\n",
    "        train_loss += batch_loss.item()\n",
    "\n",
    "    # validation\n",
    "    if len(val_set) > 0:\n",
    "        model.eval() # set the model to evaluation mode\n",
    "        with torch.no_grad():\n",
    "            for i, data in enumerate(val_loader):\n",
    "                inputs, labels = data\n",
    "                inputs, labels = inputs.to(device), labels.to(device)\n",
    "                outputs = model(inputs)\n",
    "                batch_loss = criterion(outputs, labels) \n",
    "                _, val_pred = torch.max(outputs, 1) \n",
    "            \n",
    "                val_acc += (val_pred.cpu() == labels.cpu()).sum().item() # get the index of the class with the highest probability\n",
    "                val_loss += batch_loss.item()\n",
    "\n",
    "            print('[{:03d}/{:03d}] Train Acc: {:3.6f} Loss: {:3.6f} | Val Acc: {:3.6f} loss: {:3.6f}'.format(\n",
    "                epoch + 1, num_epoch, train_acc/len(train_set), train_loss/len(train_loader), val_acc/len(val_set), val_loss/len(val_loader)\n",
    "            ))\n",
    "\n",
    "            # if the model improves, save a checkpoint at this epoch\n",
    "            if val_acc > best_acc:\n",
    "                best_acc = val_acc\n",
    "                torch.save(model.state_dict(), model_path)\n",
    "                print('saving model with acc {:.3f}'.format(best_acc/len(val_set)))\n",
    "    else:\n",
    "        print('[{:03d}/{:03d}] Train Acc: {:3.6f} Loss: {:3.6f}'.format(\n",
    "            epoch + 1, num_epoch, train_acc/len(train_set), train_loss/len(train_loader)\n",
    "        ))\n",
    "\n",
    "# if not validating, save the last epoch\n",
    "if len(val_set) == 0:\n",
    "    torch.save(model.state_dict(), model_path)\n",
    "    print('saving model at last epoch')"
   ],
   "outputs": [
    {
     "output_type": "error",
     "ename": "AttributeError",
     "evalue": "'list' object has no attribute 'to'",
     "traceback": [
      "\u001b[0;31m---------------------------------------------------------------------------\u001b[0m",
      "\u001b[0;31mAttributeError\u001b[0m                            Traceback (most recent call last)",
      "\u001b[0;32m<ipython-input-73-c7e19d339338>\u001b[0m in \u001b[0;36m<module>\u001b[0;34m()\u001b[0m\n\u001b[1;32m     12\u001b[0m     \u001b[0;32mfor\u001b[0m \u001b[0mi\u001b[0m\u001b[0;34m,\u001b[0m \u001b[0mdata\u001b[0m \u001b[0;32min\u001b[0m \u001b[0menumerate\u001b[0m\u001b[0;34m(\u001b[0m\u001b[0mtrain_loader\u001b[0m\u001b[0;34m)\u001b[0m\u001b[0;34m:\u001b[0m\u001b[0;34m\u001b[0m\u001b[0m\n\u001b[1;32m     13\u001b[0m         \u001b[0minputs\u001b[0m\u001b[0;34m,\u001b[0m \u001b[0mlabels\u001b[0m \u001b[0;34m=\u001b[0m \u001b[0mdata\u001b[0m\u001b[0;34m\u001b[0m\u001b[0m\n\u001b[0;32m---> 14\u001b[0;31m         \u001b[0minputs\u001b[0m\u001b[0;34m,\u001b[0m \u001b[0mlabels\u001b[0m \u001b[0;34m=\u001b[0m \u001b[0minputs\u001b[0m\u001b[0;34m.\u001b[0m\u001b[0mto\u001b[0m\u001b[0;34m(\u001b[0m\u001b[0mdevice\u001b[0m\u001b[0;34m)\u001b[0m\u001b[0;34m,\u001b[0m \u001b[0mlabels\u001b[0m\u001b[0;34m.\u001b[0m\u001b[0mto\u001b[0m\u001b[0;34m(\u001b[0m\u001b[0mdevice\u001b[0m\u001b[0;34m)\u001b[0m\u001b[0;34m\u001b[0m\u001b[0m\n\u001b[0m\u001b[1;32m     15\u001b[0m         \u001b[0moptimizer\u001b[0m\u001b[0;34m.\u001b[0m\u001b[0mzero_grad\u001b[0m\u001b[0;34m(\u001b[0m\u001b[0;34m)\u001b[0m\u001b[0;34m\u001b[0m\u001b[0m\n\u001b[1;32m     16\u001b[0m         \u001b[0moutputs\u001b[0m \u001b[0;34m=\u001b[0m \u001b[0mmodel\u001b[0m\u001b[0;34m(\u001b[0m\u001b[0minputs\u001b[0m\u001b[0;34m)\u001b[0m\u001b[0;34m\u001b[0m\u001b[0m\n",
      "\u001b[0;31mAttributeError\u001b[0m: 'list' object has no attribute 'to'"
     ]
    }
   ],
   "metadata": {}
  }
 ],
 "metadata": {
  "orig_nbformat": 4,
  "language_info": {
   "name": "python",
   "version": "3.6.3",
   "mimetype": "text/x-python",
   "codemirror_mode": {
    "name": "ipython",
    "version": 3
   },
   "pygments_lexer": "ipython3",
   "nbconvert_exporter": "python",
   "file_extension": ".py"
  },
  "kernelspec": {
   "name": "python3",
   "display_name": "Python 3.6.3 64-bit ('base': conda)"
  },
  "interpreter": {
   "hash": "9ae343dddec10aefd08a2750816ac8aba9822b9f7d9bb3e7559e2f5e4d741eea"
  }
 },
 "nbformat": 4,
 "nbformat_minor": 2
}